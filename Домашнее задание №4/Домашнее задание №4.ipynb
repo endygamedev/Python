{
 "cells": [
  {
   "cell_type": "markdown",
   "metadata": {},
   "source": [
    "# Домашнее задание №4"
   ]
  },
  {
   "cell_type": "markdown",
   "metadata": {},
   "source": [
    "### Упраженение 6.2\n",
    "\n",
    "*Напишите программный код, который будет создавать новый список, содержащий в качестве элементов квадратные корни всех чисел из списка [2, 4, 9, 16, 25]:*\n",
    "\n",
    "**1) на основе цикла for**\n",
    "\n",
    "**2) на основе функции map**\n",
    "\n",
    "**3) в виде генератора списка**"
   ]
  },
  {
   "cell_type": "code",
   "execution_count": 6,
   "metadata": {},
   "outputs": [],
   "source": [
    "import numpy as np\n",
    "\n",
    "lst = [2, 4, 9, 16, 25]"
   ]
  },
  {
   "cell_type": "markdown",
   "metadata": {},
   "source": [
    "*1 способ*"
   ]
  },
  {
   "cell_type": "code",
   "execution_count": 7,
   "metadata": {},
   "outputs": [
    {
     "data": {
      "text/plain": [
       "[1.4142135623730951, 2.0, 3.0, 4.0, 5.0]"
      ]
     },
     "execution_count": 7,
     "metadata": {},
     "output_type": "execute_result"
    }
   ],
   "source": [
    "res = []\n",
    "for i in lst:\n",
    "    res.append(np.sqrt(i))\n",
    "res"
   ]
  },
  {
   "cell_type": "markdown",
   "metadata": {},
   "source": [
    "*2 способ*"
   ]
  },
  {
   "cell_type": "code",
   "execution_count": 8,
   "metadata": {},
   "outputs": [
    {
     "data": {
      "text/plain": [
       "[1.4142135623730951, 2.0, 3.0, 4.0, 5.0]"
      ]
     },
     "execution_count": 8,
     "metadata": {},
     "output_type": "execute_result"
    }
   ],
   "source": [
    "list(map(np.sqrt, lst))"
   ]
  },
  {
   "cell_type": "markdown",
   "metadata": {},
   "source": [
    "*3 способ*"
   ]
  },
  {
   "cell_type": "code",
   "execution_count": 10,
   "metadata": {},
   "outputs": [
    {
     "data": {
      "text/plain": [
       "[1.4142135623730951, 2.0, 3.0, 4.0, 5.0]"
      ]
     },
     "execution_count": 10,
     "metadata": {},
     "output_type": "execute_result"
    }
   ],
   "source": [
    "res = [np.sqrt(i) for i in lst]\n",
    "res"
   ]
  },
  {
   "cell_type": "markdown",
   "metadata": {},
   "source": [
    "### Упраженение 6.3\n",
    "\n",
    "*Отфильтровать список имен так, чтобы в нем остался только элемент 'John' или 'Paul'.*\n",
    "*В результате выполнения фильтрации список names будет содержать: \n",
    "['John', 'Paul']*"
   ]
  },
  {
   "cell_type": "code",
   "execution_count": 11,
   "metadata": {},
   "outputs": [],
   "source": [
    "names = ['John', 'Paul', 'George', 'Ringo']"
   ]
  },
  {
   "cell_type": "code",
   "execution_count": 12,
   "metadata": {},
   "outputs": [
    {
     "data": {
      "text/plain": [
       "['John', 'Paul']"
      ]
     },
     "execution_count": 12,
     "metadata": {},
     "output_type": "execute_result"
    }
   ],
   "source": [
    "filterName = [i for i in names if i == 'John' or i == 'Paul']\n",
    "filterName"
   ]
  },
  {
   "cell_type": "markdown",
   "metadata": {},
   "source": [
    "### Упраженение 6.4\n",
    "\n",
    "*Магический квадрат Ло Шу представляет собой таблицу с 3 строками и 3 столбцами. Магический квадрат Ло Шу имеет приведенные ниже свойства:*\n",
    "\n",
    "**1) таблица содержит числа строго от 1 до 9;**\n",
    "\n",
    "**2) сумма каждой строки, каждого столбца и каждой диагонали в итоге составляет одно и то же число (сумма по всем направлениям 15, сумма всех чисел в квадрате - 45).**\n",
    "\n",
    "*Проверьте, что произвольная матрица удовлетворяет этим свойствам.*"
   ]
  },
  {
   "cell_type": "code",
   "execution_count": 66,
   "metadata": {},
   "outputs": [],
   "source": [
    "matrix = [[4,9,2],[3,5,7],[8,1,6]]\n",
    "test = [[1,2,3],[2,3,5],[1,2,3]]"
   ]
  },
  {
   "cell_type": "markdown",
   "metadata": {},
   "source": [
    "*Пишем функция magicSquareQ*"
   ]
  },
  {
   "cell_type": "code",
   "execution_count": 69,
   "metadata": {},
   "outputs": [],
   "source": [
    "def magicSquareQ(matrix):    \n",
    "    summary = sum(matrix[0])\n",
    "    N = len(matrix)\n",
    "    diagonalSumFirst = sum([matrix[i][i] for i in range(N)])\n",
    "    diagonalSumSecond = sum([matrix[i][N-i-1] for i in range(N)])\n",
    "    transposeMatrix = np.transpose(matrix).tolist()\n",
    "    \n",
    "    \n",
    "    for i in range(N):\n",
    "        for j in range(len(matrix[i])):\n",
    "            if 1 < matrix[i][j] < 9 and summary == sum(matrix[i]) and summary == sum(transposeMatrix[i]):\n",
    "                return True\n",
    "            else:\n",
    "                return False"
   ]
  },
  {
   "cell_type": "markdown",
   "metadata": {},
   "source": [
    "*Тесты:*"
   ]
  },
  {
   "cell_type": "code",
   "execution_count": 70,
   "metadata": {},
   "outputs": [
    {
     "data": {
      "text/plain": [
       "True"
      ]
     },
     "execution_count": 70,
     "metadata": {},
     "output_type": "execute_result"
    }
   ],
   "source": [
    "magicSquare(matrix)"
   ]
  },
  {
   "cell_type": "code",
   "execution_count": 71,
   "metadata": {},
   "outputs": [
    {
     "data": {
      "text/plain": [
       "False"
      ]
     },
     "execution_count": 71,
     "metadata": {},
     "output_type": "execute_result"
    }
   ],
   "source": [
    "magicSquare(test)"
   ]
  },
  {
   "cell_type": "markdown",
   "metadata": {},
   "source": [
    "### Упражнение 7.1\n",
    "\n",
    "*Напишите программу-игру. Компьютер загадывает случайное число, пользователь пытается его угадать. Пользователь вводит число несколько раз (количество попыток ограничено и указывается в программе), пока не угадает или не введёт слово Выход. Компьютер сравнивает число с введенным и сообщает пользователю больше оно или меньше загаданного.*"
   ]
  },
  {
   "cell_type": "markdown",
   "metadata": {},
   "source": [
    "**Ссылка на Drakon-схему:**\n",
    "\n",
    "https://drakonhub.com/ide/doc/endy/4"
   ]
  },
  {
   "cell_type": "code",
   "execution_count": 76,
   "metadata": {},
   "outputs": [],
   "source": [
    "import random"
   ]
  },
  {
   "cell_type": "code",
   "execution_count": 108,
   "metadata": {},
   "outputs": [
    {
     "name": "stdout",
     "output_type": "stream",
     "text": [
      "Компьютер загадал число.\n",
      "У вас есть 3 попытки. Удачи!\n",
      "Попробуйте угадать:2\n",
      "Попробуйте число больше!\n",
      "Попробуйте угадать:3\n",
      "Попробуйте число больше!\n",
      "Попробуйте угадать:4\n",
      "Попробуйте число больше!\n",
      "Game Over!\n",
      "Число: 10\n"
     ]
    }
   ],
   "source": [
    "print('Компьютер загадал число.\\nУ вас есть 3 попытки. Удачи!')\n",
    "rnd = random.randint(1,10)\n",
    "i = 1\n",
    "\n",
    "while True:\n",
    "    num = input('Попробуйте угадать:')\n",
    "    if num.capitalize() == 'Выход':\n",
    "        print('Вы вышли из игры.\\nДо скорых встреч!')\n",
    "        break\n",
    "    elif num.isdigit():\n",
    "        if int(num) == rnd:\n",
    "            print('Победа!')\n",
    "            break\n",
    "        elif int(num) > rnd:\n",
    "            print('Попробуйте число меньше!')\n",
    "        else:\n",
    "            print('Попробуйте число больше!')\n",
    "    \n",
    "    if i == 3:\n",
    "        print('Game Over!\\nЧисло:', rnd)\n",
    "        break\n",
    "    i += 1"
   ]
  },
  {
   "cell_type": "markdown",
   "metadata": {},
   "source": [
    "### Упражнение 7.2\n",
    "\n",
    "*Дано число, введенное с клавиатуры. Определить сумму квадратов нечетных цифр в числе.*"
   ]
  },
  {
   "cell_type": "code",
   "execution_count": 103,
   "metadata": {},
   "outputs": [],
   "source": [
    "def sumSquareIntegerOddDigits(num: int):\n",
    "    integerDigits = list(map(int, list(str(num))))\n",
    "    oddDigits = [i for i in integerDigits if i%2 == 1]\n",
    "    squareOddDigits = [i**2 for i in oddDigits]\n",
    "    return sum(squareOddDigits)"
   ]
  },
  {
   "cell_type": "code",
   "execution_count": 104,
   "metadata": {},
   "outputs": [
    {
     "name": "stdout",
     "output_type": "stream",
     "text": [
      "Введите число: 2345\n"
     ]
    },
    {
     "data": {
      "text/plain": [
       "34"
      ]
     },
     "execution_count": 104,
     "metadata": {},
     "output_type": "execute_result"
    }
   ],
   "source": [
    "num = int(input('Введите число: '))\n",
    "sumSquareIntegerOddDigits(num)"
   ]
  },
  {
   "cell_type": "markdown",
   "metadata": {},
   "source": [
    "### Упражнение 7.3\n",
    "\n",
    "*Найти сумму чисел, вводимых с клавиатуры. Количество вводимых чисел заранее неизвестно. Окончание ввода - слово “Стоп”. При ошибке ввода попросить повторить ввод числа.*"
   ]
  },
  {
   "cell_type": "code",
   "execution_count": 112,
   "metadata": {},
   "outputs": [
    {
     "name": "stdout",
     "output_type": "stream",
     "text": [
      "Введите число: 21312\n",
      "Сумма: 21312\n",
      "Введите число: fs\n",
      "Введите число: fds\n",
      "Введите число: 2\n",
      "Сумма: 21314\n",
      "Введите число: стоп\n"
     ]
    }
   ],
   "source": [
    "numList = []\n",
    "while True:\n",
    "    num = input('Введите число: ')\n",
    "    if num.isdigit():\n",
    "        numList.append(int(num))\n",
    "        print('Сумма:',sum(numList))\n",
    "    elif num.capitalize() == 'Стоп':\n",
    "        break"
   ]
  },
  {
   "cell_type": "markdown",
   "metadata": {},
   "source": [
    "### Упражнение 7.4 \n",
    "\n",
    "*Удалить из стихотворения все слова, начинающиеся на букву м (нижний регистр). Результат вывести на экран в виде строки.*"
   ]
  },
  {
   "cell_type": "code",
   "execution_count": 137,
   "metadata": {},
   "outputs": [],
   "source": [
    "s = \"Мой дядя самых честных правил, \\\n",
    "Когда не в шутку занемог, \\\n",
    "Он уважать себя заставил \\\n",
    "И лучше выдумать не мог\""
   ]
  },
  {
   "cell_type": "code",
   "execution_count": 139,
   "metadata": {},
   "outputs": [],
   "source": [
    "edit = ''.join([char for char in s if char != 'м'])"
   ]
  },
  {
   "cell_type": "code",
   "execution_count": 140,
   "metadata": {},
   "outputs": [
    {
     "name": "stdout",
     "output_type": "stream",
     "text": [
      "Исходное стихотворение: Мой дядя самых честных правил, Когда не в шутку занемог, Он уважать себя заставил И лучше выдумать не мог \n",
      "\n",
      "Преобразованное стихотворение: Мой дядя саых честных правил, Когда не в шутку занеог, Он уважать себя заставил И лучше выдуать не ог\n"
     ]
    }
   ],
   "source": [
    "print('Исходное стихотворение:', s,'\\n')\n",
    "print('Преобразованное стихотворение:', edit)"
   ]
  },
  {
   "cell_type": "markdown",
   "metadata": {},
   "source": [
    "### Упражнение 7.5\n",
    "\n",
    "*Напечатать все имеющиеся в тексте числа, определить их количество, сумму и найти максимальное.*"
   ]
  },
  {
   "cell_type": "code",
   "execution_count": 141,
   "metadata": {},
   "outputs": [],
   "source": [
    "text = '''В разные эпохи и у разных народов число Пи имело разное значение.\n",
    "Например, в Древнем Египте оно равнялось 3.1604 у индусов оно приобрело\n",
    "значение 3.162 китайцы пользовались числом, равным 3.1459\n",
    "Буквенное обозначение число Пи получило только в 1706 году – оно происходит\n",
    "от начальных букв двух греческих слов, означающих окружность и периметр.\n",
    "Буквой π число наделил математик Джонс, а прочно вошла в математику она\n",
    "уже в 1737 году.'''"
   ]
  },
  {
   "cell_type": "code",
   "execution_count": 154,
   "metadata": {},
   "outputs": [
    {
     "name": "stdout",
     "output_type": "stream",
     "text": [
      "Количество целых чисел: 2\n",
      "Сумма чисел: 3443\n",
      "Максимальное число: 1737\n"
     ]
    }
   ],
   "source": [
    "numList = [int(num) for num in text.split() if num.isdigit()]\n",
    "print('Количество целых чисел:', len(numList))\n",
    "print('Сумма чисел:',sum(numList))\n",
    "print('Максимальное число:',max(numList))"
   ]
  },
  {
   "cell_type": "markdown",
   "metadata": {},
   "source": [
    "### Упражнение 7.6\n",
    "\n",
    "*Напишите программу для добавления задач (todo list). Для каждой из задач можно задать категорию и срок ее исполнения. Добавить возможность вывода списка задач.*"
   ]
  },
  {
   "cell_type": "code",
   "execution_count": 6,
   "metadata": {},
   "outputs": [
    {
     "name": "stdout",
     "output_type": "stream",
     "text": [
      "\n",
      "Поростой todo:\n",
      "\t1. Добавить задачу.\n",
      "\t2. Вывести список задач.\n",
      "\t3. Выход. \n",
      "\n",
      "Укажите число:1\n",
      "Сформулируйте задачу: купить хлеб\n",
      "Добавьте категорию к задаче: купить\n",
      "Добавьте время к задаче: завтра\n",
      "\n",
      "Поростой todo:\n",
      "\t1. Добавить задачу.\n",
      "\t2. Вывести список задач.\n",
      "\t3. Выход. \n",
      "\n",
      "Укажите число:2\n",
      "Задача: купить хлеб  Категория: купить  Дата: завтра\n",
      "\n",
      "Поростой todo:\n",
      "\t1. Добавить задачу.\n",
      "\t2. Вывести список задач.\n",
      "\t3. Выход. \n",
      "\n",
      "Укажите число:1\n",
      "Сформулируйте задачу: купить молоко\n",
      "Добавьте категорию к задаче: купить\n",
      "Добавьте время к задаче: сегодня\n",
      "\n",
      "Поростой todo:\n",
      "\t1. Добавить задачу.\n",
      "\t2. Вывести список задач.\n",
      "\t3. Выход. \n",
      "\n",
      "Укажите число:2\n",
      "Задача: купить хлеб  Категория: купить  Дата: завтра\n",
      "Задача: купить молоко  Категория: купить  Дата: сегодня\n",
      "\n",
      "Поростой todo:\n",
      "\t1. Добавить задачу.\n",
      "\t2. Вывести список задач.\n",
      "\t3. Выход. \n",
      "\n",
      "Укажите число:3\n"
     ]
    }
   ],
   "source": [
    "listTaskNames = []\n",
    "listTaskCategories = []\n",
    "listTaskDates = []\n",
    "\n",
    "while True:\n",
    "    print('\\nПоростой todo:\\n\\t1. Добавить задачу.\\n\\t2. Вывести список задач.\\n\\t3. Выход. ')\n",
    "    action = int(input('\\nУкажите число:'))\n",
    "    if action == 1:\n",
    "        taskName = input('Сформулируйте задачу: ')\n",
    "        taskCategory = input('Добавьте категорию к задаче: ')\n",
    "        taskDate = input('Добавьте время к задаче: ')\n",
    "        \n",
    "        listTaskNames.append(taskName)\n",
    "        listTaskCategories.append(taskCategory)\n",
    "        listTaskDates.append(taskDate)\n",
    "        \n",
    "    if action == 2:\n",
    "        for i in range(len(listTaskNames)):\n",
    "            print('Задача:',listTaskNames[i],' Категория:',listTaskCategories[i],' Дата:', listTaskDates[i])\n",
    "            \n",
    "    if action == 3:\n",
    "        break"
   ]
  },
  {
   "cell_type": "markdown",
   "metadata": {},
   "source": [
    "### Упражнение 7.7\n",
    "\n",
    "*Напишите цикл, который вычисляет сумму приведенного ниже ряда чисел:*\n",
    "\n",
    "**1/30 + 2/29 + 3/28 + … + 30/1**"
   ]
  },
  {
   "cell_type": "code",
   "execution_count": 218,
   "metadata": {},
   "outputs": [
    {
     "data": {
      "text/plain": [
       "93.84460105853213"
      ]
     },
     "execution_count": 218,
     "metadata": {},
     "output_type": "execute_result"
    }
   ],
   "source": [
    "j = 31\n",
    "sumRow = 0\n",
    "\n",
    "for i in range(1,31):\n",
    "    j-=1\n",
    "    sumRow += i/j\n",
    "    \n",
    "sumRow"
   ]
  },
  {
   "cell_type": "markdown",
   "metadata": {},
   "source": [
    "### Упражнение 7.8\n",
    "\n",
    "*Если умеренно активный человек будет сокращать свое потребление в калориях на 500 калорий в день, то, как правило, он может похудеть примерно на 1,5 кг в месяц. Напишите программу, которая по исходной массе создает таблицу, показывающую, какой будет ожидаемая масса в конце каждого месяца в течение следующих 6 месяцев, если он останется на этой диете.*"
   ]
  },
  {
   "cell_type": "code",
   "execution_count": 7,
   "metadata": {},
   "outputs": [],
   "source": [
    "import pandas as pd"
   ]
  },
  {
   "cell_type": "code",
   "execution_count": 18,
   "metadata": {},
   "outputs": [
    {
     "name": "stdout",
     "output_type": "stream",
     "text": [
      "Введите свой вес (кг): 70\n",
      "['1 месяц: 68.5', '2 месяц: 67.0', '3 месяц: 65.5', '4 месяц: 64.0', '5 месяц: 62.5', '6 месяц: 61.0']\n"
     ]
    },
    {
     "data": {
      "text/html": [
       "<div>\n",
       "<style scoped>\n",
       "    .dataframe tbody tr th:only-of-type {\n",
       "        vertical-align: middle;\n",
       "    }\n",
       "\n",
       "    .dataframe tbody tr th {\n",
       "        vertical-align: top;\n",
       "    }\n",
       "\n",
       "    .dataframe thead th {\n",
       "        text-align: right;\n",
       "    }\n",
       "</style>\n",
       "<table border=\"1\" class=\"dataframe\">\n",
       "  <thead>\n",
       "    <tr style=\"text-align: right;\">\n",
       "      <th></th>\n",
       "      <th>0</th>\n",
       "    </tr>\n",
       "  </thead>\n",
       "  <tbody>\n",
       "    <tr>\n",
       "      <th>0</th>\n",
       "      <td>1 месяц: 68.5</td>\n",
       "    </tr>\n",
       "    <tr>\n",
       "      <th>1</th>\n",
       "      <td>2 месяц: 67.0</td>\n",
       "    </tr>\n",
       "    <tr>\n",
       "      <th>2</th>\n",
       "      <td>3 месяц: 65.5</td>\n",
       "    </tr>\n",
       "    <tr>\n",
       "      <th>3</th>\n",
       "      <td>4 месяц: 64.0</td>\n",
       "    </tr>\n",
       "    <tr>\n",
       "      <th>4</th>\n",
       "      <td>5 месяц: 62.5</td>\n",
       "    </tr>\n",
       "    <tr>\n",
       "      <th>5</th>\n",
       "      <td>6 месяц: 61.0</td>\n",
       "    </tr>\n",
       "  </tbody>\n",
       "</table>\n",
       "</div>"
      ],
      "text/plain": [
       "               0\n",
       "0  1 месяц: 68.5\n",
       "1  2 месяц: 67.0\n",
       "2  3 месяц: 65.5\n",
       "3  4 месяц: 64.0\n",
       "4  5 месяц: 62.5\n",
       "5  6 месяц: 61.0"
      ]
     },
     "execution_count": 18,
     "metadata": {},
     "output_type": "execute_result"
    }
   ],
   "source": [
    "weight = float(input('Введите свой вес (кг): '))\n",
    "currentWeight = weight\n",
    "statisticWeight = []\n",
    "\n",
    "for i in range(1,7):\n",
    "    currentWeight = currentWeight-1.5\n",
    "    statisticWeight.append(str(i)+\" месяц: \"+str(currentWeight))\n",
    "\n",
    "df = pd.DataFrame(statisticWeight)\n",
    "print(statisticWeight)\n",
    "df"
   ]
  }
 ],
 "metadata": {
  "kernelspec": {
   "display_name": "Python 3",
   "language": "python",
   "name": "python3"
  },
  "language_info": {
   "codemirror_mode": {
    "name": "ipython",
    "version": 3
   },
   "file_extension": ".py",
   "mimetype": "text/x-python",
   "name": "python",
   "nbconvert_exporter": "python",
   "pygments_lexer": "ipython3",
   "version": "3.7.5"
  }
 },
 "nbformat": 4,
 "nbformat_minor": 4
}
