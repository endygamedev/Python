{
 "cells": [
  {
   "cell_type": "markdown",
   "metadata": {
    "colab_type": "text",
    "id": "EyCx1Kl5FRCW"
   },
   "source": [
    "<a href=\"https://colab.research.google.com/github/dm-fedorov/pandas_basic/blob/master/кейсы%20по%20анализу%20данных/Работа%20с%20датами%2002.ipynb\" target=\"_blank\"><img align=\"left\" src=\"https://colab.research.google.com/assets/colab-badge.svg\" alt=\"Open in Colab\" title=\"Open and Execute in Google Colaboratory\"></a>"
   ]
  },
  {
   "cell_type": "markdown",
   "metadata": {
    "colab_type": "text",
    "id": "C4LHHxwGFRCX"
   },
   "source": [
    "Работа с датами — неотъемлемая часть решения многих аналитических задач. Некоторые инструменты, например, Excel, имеют встроенные инструменты по распознаванию дат в автоматическом режиме. Но не всегда даже эти инструменты дают корректный результат при работе с базами данных.\n",
    "\n",
    "Например, запись `01.12.17`, скорее всего, будет распознана как `1 декабря 2017 года`. Однако в американском стандарте записи дат это `12 января 2017 года`.\n",
    "\n",
    "Также многие выгрузки из систем и баз данных имеют свой служебный формат. Например, формат времени из разных систем может отличаться:"
   ]
  },
  {
   "cell_type": "markdown",
   "metadata": {
    "colab_type": "text",
    "id": "SuHJWgaTFRCY"
   },
   "source": [
    "* `2018-11-09 15:45:21`\n",
    "* `11/09/2018 3:45:20 PM`\n",
    "* `2018-11-09T15:45:21.2984`"
   ]
  },
  {
   "cell_type": "markdown",
   "metadata": {
    "colab_type": "text",
    "id": "j5oYEOHtFRCZ"
   },
   "source": [
    "Для всех этих случаев необходимо задавать формат распознавания дат, уметь сравнивать их между собой. Также часто необходимо корректно прибавлять к датам разные временные интервалы. Например, час или день.\n",
    "\n",
    "Представим, что нам надо посчитать показатели рекламной кампании за определенный период. Например, для человека удобно дату начала и конца выгрузки задавать в формате строки:"
   ]
  },
  {
   "cell_type": "code",
   "execution_count": 0,
   "metadata": {
    "colab": {},
    "colab_type": "code",
    "id": "kg0rilWmFRCa"
   },
   "outputs": [],
   "source": [
    "startDate = '2017-12-01'\n",
    "endDate = '2017-12-31'"
   ]
  },
  {
   "cell_type": "markdown",
   "metadata": {
    "colab_type": "text",
    "id": "kjez0oYlFRCe"
   },
   "source": [
    "Однако сейчас переменные `startDate` и `endDate` — просто строки, которые нельзя преобразовывать, как даты. Для этого необходимо сначала перевести их в специальный формат."
   ]
  },
  {
   "cell_type": "markdown",
   "metadata": {
    "colab_type": "text",
    "id": "lr35KtLYFRCf"
   },
   "source": [
    "### БИБЛИОТЕКА DATETIME\n",
    "\n",
    "Будем работать с файлом [`data.tsv`](https://raw.githubusercontent.com/dm-fedorov/pandas_basic/master/data/data.tsv). В нем есть столбец `date`. \n",
    "\n",
    "Возьмем для примера первое значение в этом столбце:"
   ]
  },
  {
   "cell_type": "code",
   "execution_count": 0,
   "metadata": {
    "colab": {},
    "colab_type": "code",
    "id": "JFWwry7WFRCg"
   },
   "outputs": [],
   "source": [
    "date_string = '05.10.2016  23:18'"
   ]
  },
  {
   "cell_type": "markdown",
   "metadata": {
    "colab_type": "text",
    "id": "pHTqgk2CFRCj"
   },
   "source": [
    "Сейчас переменная `date_string` является просто строкой."
   ]
  },
  {
   "cell_type": "code",
   "execution_count": 0,
   "metadata": {
    "colab": {
     "base_uri": "https://localhost:8080/",
     "height": 34
    },
    "colab_type": "code",
    "executionInfo": {
     "elapsed": 860,
     "status": "ok",
     "timestamp": 1590181253217,
     "user": {
      "displayName": "ENDY",
      "photoUrl": "https://lh3.googleusercontent.com/a-/AOh14GhweVQJI7BiE5TaPetwNnKNCwUO1mynGtoA5-pe4Q=s64",
      "userId": "14770815761046424264"
     },
     "user_tz": -180
    },
    "id": "dIdZ1HeBFRCj",
    "outputId": "e09672e2-86c7-441b-85fd-e85580e98528"
   },
   "outputs": [
    {
     "data": {
      "text/plain": [
       "str"
      ]
     },
     "execution_count": 3,
     "metadata": {
      "tags": []
     },
     "output_type": "execute_result"
    }
   ],
   "source": [
    "type(date_string)"
   ]
  },
  {
   "cell_type": "markdown",
   "metadata": {
    "colab_type": "text",
    "id": "ahZJZHeOFRCm"
   },
   "source": [
    "Соответственно, сейчас мы не можем выполнять со строкой никаких операций. Например, прибавить к этой дате неделю или посчитать, к какому году она относится. Нам необходимо перевести эту дату в формат `datetime`. Для этого в Python есть библиотека с аналогичным названием `datetime`. \n",
    "\n",
    "Импортируем ее в наш скрипт:"
   ]
  },
  {
   "cell_type": "code",
   "execution_count": 0,
   "metadata": {
    "colab": {},
    "colab_type": "code",
    "id": "RaoRhKrYFRCn"
   },
   "outputs": [],
   "source": [
    "import datetime"
   ]
  },
  {
   "cell_type": "markdown",
   "metadata": {
    "colab_type": "text",
    "id": "QvJOBgHPFRCq"
   },
   "source": [
    "На текущем занятии мы будем использовать из этой библиотеки следующие модули: `datetime` для распознавания формата дат и `timedelta` для прибавления к текущей дате определенный временной интервал. Нам придется вызывать эти модули следующим образом: `datetime.datetime` и `datetime.timedelta`, что достаточно громоздко. Чтобы сделать код более читабельным, давайте импортируем эти модули следующим образом:"
   ]
  },
  {
   "cell_type": "code",
   "execution_count": 0,
   "metadata": {
    "colab": {},
    "colab_type": "code",
    "id": "cRgvogrZFRCq"
   },
   "outputs": [],
   "source": [
    "from datetime import datetime, timedelta"
   ]
  },
  {
   "cell_type": "markdown",
   "metadata": {
    "colab_type": "text",
    "id": "J-SpmjbLFRCu"
   },
   "source": [
    "### ФОРМАТЫ ДАТЫ И ВРЕМЕНИ\n",
    "\n",
    "Чтобы перевести переменную `date_string` в формат даты и времени, необходимо указать, в каком формате записана наша переменная. Допустим, что в этом примере цифры значат следующее:"
   ]
  },
  {
   "cell_type": "markdown",
   "metadata": {
    "colab_type": "text",
    "id": "dFA2ecuGFRCu"
   },
   "source": [
    "* 05 - день\n",
    "* 10 - месяц\n",
    "* 2016 - год\n",
    "* 23 - часы\n",
    "* 18 - минуты"
   ]
  },
  {
   "cell_type": "markdown",
   "metadata": {
    "colab_type": "text",
    "id": "NM55zqVTFRCv"
   },
   "source": [
    "В Python для каждого формата даты и времени есть свое обозначение. Например, чтобы указать формат `'часы в формате от 0 до 24'`, надо на [странице](https://docs.python.org/3/library/datetime.html) в таблице форматов (она в конце страницы) найти соответствующее обозначение — `'Hour (24-hour clock) as a zero-padded decimal number'`, т.е. `%H`.\n",
    "\n",
    "В этой таблице есть много форматов, даже на случаи обозначения дней недели, как `Sun`, `Mon` (первая строка таблицы) и использование `AM` и `PM`.\n",
    "\n",
    "Давайте расшифруем формат переменной `date_string`. Для этого используется метод `strptime`, который переводит переменную типа строка в переменную типа дата и время.\n",
    "\n",
    "В качестве первого аргумента ставим строковую переменную (`date_string`), потом указываем формат (при указании формата обязательно учитываем все точки и двоеточия):"
   ]
  },
  {
   "cell_type": "code",
   "execution_count": 0,
   "metadata": {
    "colab": {
     "base_uri": "https://localhost:8080/",
     "height": 34
    },
    "colab_type": "code",
    "executionInfo": {
     "elapsed": 1366,
     "status": "ok",
     "timestamp": 1590181253745,
     "user": {
      "displayName": "ENDY",
      "photoUrl": "https://lh3.googleusercontent.com/a-/AOh14GhweVQJI7BiE5TaPetwNnKNCwUO1mynGtoA5-pe4Q=s64",
      "userId": "14770815761046424264"
     },
     "user_tz": -180
    },
    "id": "aMe2PlFMFRCx",
    "outputId": "7934b451-be9e-4ae8-c171-271cafa0d46a"
   },
   "outputs": [
    {
     "data": {
      "text/plain": [
       "datetime.datetime(2016, 10, 5, 23, 18)"
      ]
     },
     "execution_count": 6,
     "metadata": {
      "tags": []
     },
     "output_type": "execute_result"
    }
   ],
   "source": [
    "date_string = '05.10.2016  23:18'\n",
    "datetime.strptime(date_string, '%d.%m.%Y %H:%M')"
   ]
  },
  {
   "cell_type": "markdown",
   "metadata": {
    "colab_type": "text",
    "id": "NuJcN81fFRC0"
   },
   "source": [
    "Вывод `datetime.datetime(2016, 10, 5, 23, 18)` означает, что мы верно расшифровали формат. Если бы мы ошиблись, то получили бы ошибку:"
   ]
  },
  {
   "cell_type": "code",
   "execution_count": 0,
   "metadata": {
    "colab": {},
    "colab_type": "code",
    "id": "VSr4JFtnFRC0"
   },
   "outputs": [],
   "source": [
    "#datetime.strptime(date_string, '%Y %H:%M')"
   ]
  },
  {
   "cell_type": "markdown",
   "metadata": {
    "colab_type": "text",
    "id": "SEhHys2cFRC3"
   },
   "source": [
    "Запишем наш результат в переменную `date_datetime` и посмотрим, что с ней можно делать:"
   ]
  },
  {
   "cell_type": "code",
   "execution_count": 0,
   "metadata": {
    "colab": {
     "base_uri": "https://localhost:8080/",
     "height": 34
    },
    "colab_type": "code",
    "executionInfo": {
     "elapsed": 1351,
     "status": "ok",
     "timestamp": 1590181253747,
     "user": {
      "displayName": "ENDY",
      "photoUrl": "https://lh3.googleusercontent.com/a-/AOh14GhweVQJI7BiE5TaPetwNnKNCwUO1mynGtoA5-pe4Q=s64",
      "userId": "14770815761046424264"
     },
     "user_tz": -180
    },
    "id": "D2KPmC63FRC3",
    "outputId": "30685e4d-fe0f-4251-8495-29d0a4bdc9e0"
   },
   "outputs": [
    {
     "data": {
      "text/plain": [
       "datetime.datetime"
      ]
     },
     "execution_count": 8,
     "metadata": {
      "tags": []
     },
     "output_type": "execute_result"
    }
   ],
   "source": [
    "date_datetime = datetime.strptime(date_string, '%d.%m.%Y %H:%M')\n",
    "type(date_datetime)"
   ]
  },
  {
   "cell_type": "markdown",
   "metadata": {
    "colab_type": "text",
    "id": "UtMRK3BcFRC5"
   },
   "source": [
    "Теперь можем получать множество характеристик даты:"
   ]
  },
  {
   "cell_type": "code",
   "execution_count": 0,
   "metadata": {
    "colab": {
     "base_uri": "https://localhost:8080/",
     "height": 34
    },
    "colab_type": "code",
    "executionInfo": {
     "elapsed": 1342,
     "status": "ok",
     "timestamp": 1590181253748,
     "user": {
      "displayName": "ENDY",
      "photoUrl": "https://lh3.googleusercontent.com/a-/AOh14GhweVQJI7BiE5TaPetwNnKNCwUO1mynGtoA5-pe4Q=s64",
      "userId": "14770815761046424264"
     },
     "user_tz": -180
    },
    "id": "FB5WSC3-FRC6",
    "outputId": "6ca5fb41-782e-4bf5-87d7-50bd30cb5f2a"
   },
   "outputs": [
    {
     "data": {
      "text/plain": [
       "2016"
      ]
     },
     "execution_count": 9,
     "metadata": {
      "tags": []
     },
     "output_type": "execute_result"
    }
   ],
   "source": [
    "date_datetime.year # если хотим сгруппировать статистику покупок по году"
   ]
  },
  {
   "cell_type": "code",
   "execution_count": 0,
   "metadata": {
    "colab": {
     "base_uri": "https://localhost:8080/",
     "height": 34
    },
    "colab_type": "code",
    "executionInfo": {
     "elapsed": 1332,
     "status": "ok",
     "timestamp": 1590181253749,
     "user": {
      "displayName": "ENDY",
      "photoUrl": "https://lh3.googleusercontent.com/a-/AOh14GhweVQJI7BiE5TaPetwNnKNCwUO1mynGtoA5-pe4Q=s64",
      "userId": "14770815761046424264"
     },
     "user_tz": -180
    },
    "id": "u8GdEfswFRC9",
    "outputId": "5a86befd-599e-412f-a1f9-bf1c705e7f4e"
   },
   "outputs": [
    {
     "data": {
      "text/plain": [
       "23"
      ]
     },
     "execution_count": 10,
     "metadata": {
      "tags": []
     },
     "output_type": "execute_result"
    }
   ],
   "source": [
    "date_datetime.hour # если строим отчет активности покупок по часам"
   ]
  },
  {
   "cell_type": "markdown",
   "metadata": {
    "colab_type": "text",
    "id": "Arz1PThpFRDA"
   },
   "source": [
    "### Задание 1\n",
    "\n",
    "С помощью метода `datetime.strptime` переведите строку `'May 9 2017 9:00AM'` в формат `datetime`.\n",
    "\n",
    "Выделите и запишите номер часа в этой дате (в виде целого числа). Подсказка: у обозначения месяца `May` формат `%b`, у `AM` - `%p`"
   ]
  },
  {
   "cell_type": "code",
   "execution_count": 0,
   "metadata": {
    "colab": {
     "base_uri": "https://localhost:8080/",
     "height": 34
    },
    "colab_type": "code",
    "executionInfo": {
     "elapsed": 728,
     "status": "ok",
     "timestamp": 1590181441396,
     "user": {
      "displayName": "ENDY",
      "photoUrl": "https://lh3.googleusercontent.com/a-/AOh14GhweVQJI7BiE5TaPetwNnKNCwUO1mynGtoA5-pe4Q=s64",
      "userId": "14770815761046424264"
     },
     "user_tz": -180
    },
    "id": "KOeaHoCYFRDA",
    "outputId": "d8da376e-6c1c-4a78-aff6-c6a0d61e8f0c"
   },
   "outputs": [
    {
     "data": {
      "text/plain": [
       "9"
      ]
     },
     "execution_count": 39,
     "metadata": {
      "tags": []
     },
     "output_type": "execute_result"
    }
   ],
   "source": [
    "date = 'May 9 2017 9:00AM'\n",
    "date_datetime = datetime.strptime(date, '%b %d %Y %I:%M%p')\n",
    "date_datetime.hour"
   ]
  },
  {
   "cell_type": "markdown",
   "metadata": {
    "colab_type": "text",
    "id": "s8ceiIBFFRDD"
   },
   "source": [
    "### ПРИБАВЛЕНИЕ ДНЕЙ\n",
    "\n",
    "Необходимость прибавлять временной интервал к дате очень часто встречается в самых разнообразных задачах. Например, при заборе данных из внешних источников с помощью API для каждого дня отдельно (для увеличения точности выгрузки).\n",
    "\n",
    "Допустим, у нас есть дата начала выгрузки `startDate`. Необходимо прибавить к этой дате день. Воспользуемся модулем `timedelta`."
   ]
  },
  {
   "cell_type": "code",
   "execution_count": 0,
   "metadata": {
    "colab": {},
    "colab_type": "code",
    "id": "RK6hV77HFRDD"
   },
   "outputs": [],
   "source": [
    "startDate = '2017-01-01'"
   ]
  },
  {
   "cell_type": "markdown",
   "metadata": {
    "colab_type": "text",
    "id": "BGND0o-hFRDG"
   },
   "source": [
    "Переводим строковую переменную `startDate` в формат `datetime`:"
   ]
  },
  {
   "cell_type": "code",
   "execution_count": 0,
   "metadata": {
    "colab": {},
    "colab_type": "code",
    "id": "K540TVDaFRDG"
   },
   "outputs": [],
   "source": [
    "startDate_datetime = datetime.strptime(startDate, '%Y-%m-%d')"
   ]
  },
  {
   "cell_type": "markdown",
   "metadata": {
    "colab_type": "text",
    "id": "HObo4B3yFRDJ"
   },
   "source": [
    "Теперь можем прибавлять к ней нужные временные интервалы с помощью `timedelta`:"
   ]
  },
  {
   "cell_type": "code",
   "execution_count": 0,
   "metadata": {
    "colab": {
     "base_uri": "https://localhost:8080/",
     "height": 34
    },
    "colab_type": "code",
    "executionInfo": {
     "elapsed": 758,
     "status": "ok",
     "timestamp": 1590181306338,
     "user": {
      "displayName": "ENDY",
      "photoUrl": "https://lh3.googleusercontent.com/a-/AOh14GhweVQJI7BiE5TaPetwNnKNCwUO1mynGtoA5-pe4Q=s64",
      "userId": "14770815761046424264"
     },
     "user_tz": -180
    },
    "id": "-K93vdpjFRDJ",
    "outputId": "5780f0e9-d529-45f3-9d9d-6135da256408"
   },
   "outputs": [
    {
     "data": {
      "text/plain": [
       "datetime.datetime(2017, 1, 2, 0, 0)"
      ]
     },
     "execution_count": 32,
     "metadata": {
      "tags": []
     },
     "output_type": "execute_result"
    }
   ],
   "source": [
    "startDate_datetime + timedelta(days=1)"
   ]
  },
  {
   "cell_type": "markdown",
   "metadata": {
    "colab_type": "text",
    "id": "_o60UFvQFRDM"
   },
   "source": [
    "В результате получили `2 января 2017 года`. Посмотрим, что получится, если отнять от `startDate_datetime (от 1 января) 7 дней`:"
   ]
  },
  {
   "cell_type": "code",
   "execution_count": 0,
   "metadata": {
    "colab": {
     "base_uri": "https://localhost:8080/",
     "height": 34
    },
    "colab_type": "code",
    "executionInfo": {
     "elapsed": 1291,
     "status": "ok",
     "timestamp": 1590181253753,
     "user": {
      "displayName": "ENDY",
      "photoUrl": "https://lh3.googleusercontent.com/a-/AOh14GhweVQJI7BiE5TaPetwNnKNCwUO1mynGtoA5-pe4Q=s64",
      "userId": "14770815761046424264"
     },
     "user_tz": -180
    },
    "id": "Yo1D4tYrFRDM",
    "outputId": "b0dc0837-1e40-4022-d3e2-a5d16f6e81bb"
   },
   "outputs": [
    {
     "data": {
      "text/plain": [
       "datetime.datetime(2016, 12, 25, 0, 0)"
      ]
     },
     "execution_count": 15,
     "metadata": {
      "tags": []
     },
     "output_type": "execute_result"
    }
   ],
   "source": [
    "startDate_datetime + timedelta(days=-7)"
   ]
  },
  {
   "cell_type": "markdown",
   "metadata": {
    "colab_type": "text",
    "id": "5RIt8aHbFRDQ"
   },
   "source": [
    "### ПРИБАВЛЕНИЕ ВРЕМЕНИ\n",
    "\n",
    "Для увеличения даты и времени на определенное количество часов или минут просто меняем название параметра. Попробуем добавить к дате выгрузки 1 час:"
   ]
  },
  {
   "cell_type": "code",
   "execution_count": 0,
   "metadata": {
    "colab": {
     "base_uri": "https://localhost:8080/",
     "height": 34
    },
    "colab_type": "code",
    "executionInfo": {
     "elapsed": 1278,
     "status": "ok",
     "timestamp": 1590181253754,
     "user": {
      "displayName": "ENDY",
      "photoUrl": "https://lh3.googleusercontent.com/a-/AOh14GhweVQJI7BiE5TaPetwNnKNCwUO1mynGtoA5-pe4Q=s64",
      "userId": "14770815761046424264"
     },
     "user_tz": -180
    },
    "id": "djone_zzFRDR",
    "outputId": "f74e52fc-a2f3-45c5-d02c-44513644d30a"
   },
   "outputs": [
    {
     "data": {
      "text/plain": [
       "datetime.datetime(2017, 1, 1, 1, 0)"
      ]
     },
     "execution_count": 16,
     "metadata": {
      "tags": []
     },
     "output_type": "execute_result"
    }
   ],
   "source": [
    "startDate_datetime += timedelta(hours=1)\n",
    "startDate_datetime"
   ]
  },
  {
   "cell_type": "markdown",
   "metadata": {
    "colab_type": "text",
    "id": "MUrW7CBxFRDT"
   },
   "source": [
    "### Задание 2\n",
    "\n",
    "Возьмите дату из прошлого шага `'May 9 2017 9:00AM'`, переведите в формат `datetime` и прибавьте к ней час с помощью `timedelta`.\n",
    "\n",
    "Какой результат будет на экране в формате `datetime`? Ответ должен иметь вид `datetime.datetime(...)`"
   ]
  },
  {
   "cell_type": "code",
   "execution_count": 0,
   "metadata": {
    "colab": {
     "base_uri": "https://localhost:8080/",
     "height": 34
    },
    "colab_type": "code",
    "executionInfo": {
     "elapsed": 379,
     "status": "ok",
     "timestamp": 1590181448211,
     "user": {
      "displayName": "ENDY",
      "photoUrl": "https://lh3.googleusercontent.com/a-/AOh14GhweVQJI7BiE5TaPetwNnKNCwUO1mynGtoA5-pe4Q=s64",
      "userId": "14770815761046424264"
     },
     "user_tz": -180
    },
    "id": "vW9myfSVFRDU",
    "outputId": "6b192591-b0cb-4b61-8717-224c734cea24"
   },
   "outputs": [
    {
     "data": {
      "text/plain": [
       "datetime.datetime(2017, 5, 9, 10, 0)"
      ]
     },
     "execution_count": 40,
     "metadata": {
      "tags": []
     },
     "output_type": "execute_result"
    }
   ],
   "source": [
    "date_datetime += timedelta(hours=1)\n",
    "date_datetime"
   ]
  },
  {
   "cell_type": "markdown",
   "metadata": {
    "colab_type": "text",
    "id": "M9vaEWhCFRDW"
   },
   "source": [
    "### ПЕРЕВОД DATETIME В СТРОКУ\n",
    "\n",
    "После вычислений с датами можно легко вернуть результат обратно в строку. Для этого воспользуемся методом `strftime`, указав в качестве аргумента желаемый формат:"
   ]
  },
  {
   "cell_type": "code",
   "execution_count": 0,
   "metadata": {
    "colab": {
     "base_uri": "https://localhost:8080/",
     "height": 34
    },
    "colab_type": "code",
    "executionInfo": {
     "elapsed": 1264,
     "status": "ok",
     "timestamp": 1590181253756,
     "user": {
      "displayName": "ENDY",
      "photoUrl": "https://lh3.googleusercontent.com/a-/AOh14GhweVQJI7BiE5TaPetwNnKNCwUO1mynGtoA5-pe4Q=s64",
      "userId": "14770815761046424264"
     },
     "user_tz": -180
    },
    "id": "jv2-JcbtFRDW",
    "outputId": "66f51577-2a3b-497b-bf87-4c68f5fbe740"
   },
   "outputs": [
    {
     "data": {
      "text/plain": [
       "'2017-01-01 01:00:00'"
      ]
     },
     "execution_count": 17,
     "metadata": {
      "tags": []
     },
     "output_type": "execute_result"
    }
   ],
   "source": [
    "startDate_datetime.strftime( '%Y-%m-%d %H:%M:%S' )"
   ]
  },
  {
   "cell_type": "markdown",
   "metadata": {
    "colab_type": "text",
    "id": "o5ir_snzFRDY"
   },
   "source": [
    "### Задание 3\n",
    "\n",
    "Возьмите результат прошлого упражнения (прибавление часа к 9 мая) и запишите результат в формате `'%Y-%m-%d'`. Какой будет результат?"
   ]
  },
  {
   "cell_type": "code",
   "execution_count": 0,
   "metadata": {
    "colab": {
     "base_uri": "https://localhost:8080/",
     "height": 34
    },
    "colab_type": "code",
    "executionInfo": {
     "elapsed": 2224,
     "status": "ok",
     "timestamp": 1590181647924,
     "user": {
      "displayName": "ENDY",
      "photoUrl": "https://lh3.googleusercontent.com/a-/AOh14GhweVQJI7BiE5TaPetwNnKNCwUO1mynGtoA5-pe4Q=s64",
      "userId": "14770815761046424264"
     },
     "user_tz": -180
    },
    "id": "OWLowcAtFRDZ",
    "outputId": "fbb7f7cf-8bfd-49fb-db17-1b9a55e2f805"
   },
   "outputs": [
    {
     "data": {
      "text/plain": [
       "'2017-05-09'"
      ]
     },
     "execution_count": 42,
     "metadata": {
      "tags": []
     },
     "output_type": "execute_result"
    }
   ],
   "source": [
    "str_date = date_datetime.strftime('%Y-%m-%d')\n",
    "str_date"
   ]
  },
  {
   "cell_type": "markdown",
   "metadata": {
    "colab_type": "text",
    "id": "TqPHxYtuFRDb"
   },
   "source": [
    "### ПОСТАНОВКА ЗАДАЧИ\n",
    "\n",
    "После того, как мы освоили работу с отдельными датами, давайте посмотрим, как работать с большим количеством дат. \n",
    "\n",
    "Для этого мы реализуем алгоритм, который по дате начала и конца выгрузки будет «пробегать» все значения по дням. Этот метод часто необходим при получении данных от внешних систем, а также обработки больших выгрузок частями. Например, по дням или по часам. Типичный пример — выгрузка сложных отчетов из Google Analytics по дням, чтобы уменьшить сэмплирование данных.\n",
    "\n",
    "В дальнейшем такой навык нам понадобится для определения покупательской активности по часам и дням или любой другой аналитики в больших файлах."
   ]
  },
  {
   "cell_type": "markdown",
   "metadata": {
    "colab_type": "text",
    "id": "8Vqjr_-hFRDb"
   },
   "source": [
    "### ПОДГОТОВКА ПЕРЕМЕННЫХ\n",
    "\n",
    "Потренируемся на простом примере. Представим, что нам необходимо из огромной таблицы с данными за год выяснить показатели за новогодние праздники с 1 по 7 января, и научимся в этом шаге перебирать необходимые даты. \n",
    "\n",
    "Начальную и конечную дату будем задавать в удобном для человека строковом виде:"
   ]
  },
  {
   "cell_type": "code",
   "execution_count": 0,
   "metadata": {
    "colab": {},
    "colab_type": "code",
    "id": "-h3-5DPjFRDc"
   },
   "outputs": [],
   "source": [
    "startDate = '2017-01-01'\n",
    "endDate = '2017-01-07'"
   ]
  },
  {
   "cell_type": "markdown",
   "metadata": {
    "colab_type": "text",
    "id": "6FxeP2t1FRDf"
   },
   "source": [
    "Поскольку нам надо в цикле работать с датами, то переведем строковые переменные в формат `datetime`:"
   ]
  },
  {
   "cell_type": "code",
   "execution_count": 0,
   "metadata": {
    "colab": {
     "base_uri": "https://localhost:8080/",
     "height": 34
    },
    "colab_type": "code",
    "executionInfo": {
     "elapsed": 1247,
     "status": "ok",
     "timestamp": 1590181253758,
     "user": {
      "displayName": "ENDY",
      "photoUrl": "https://lh3.googleusercontent.com/a-/AOh14GhweVQJI7BiE5TaPetwNnKNCwUO1mynGtoA5-pe4Q=s64",
      "userId": "14770815761046424264"
     },
     "user_tz": -180
    },
    "id": "12bnUe3_FRDg",
    "outputId": "f281b9f8-cb5e-48d6-a416-3bc7f3916e52"
   },
   "outputs": [
    {
     "name": "stdout",
     "output_type": "stream",
     "text": [
      "2017-01-01 00:00:00 2017-01-07 00:00:00\n"
     ]
    }
   ],
   "source": [
    "startDate_datetime = datetime.strptime(startDate, '%Y-%m-%d')\n",
    "endDate_datetime = datetime.strptime(endDate, '%Y-%m-%d')\n",
    "print(startDate_datetime, endDate_datetime)"
   ]
  },
  {
   "cell_type": "markdown",
   "metadata": {
    "colab_type": "text",
    "id": "aX9nItw6FRDi"
   },
   "source": [
    "### СОЗДАЕМ ЦИКЛ\n",
    "\n",
    "Заведем переменную `current_day`, которая в цикле будет изменяться от 1 до 7 января и будет иметь тип `datetime`. В первом шаге цикла эта переменная будет равна 1 января:"
   ]
  },
  {
   "cell_type": "code",
   "execution_count": 0,
   "metadata": {
    "colab": {},
    "colab_type": "code",
    "id": "mjAAIVN_FRDi"
   },
   "outputs": [],
   "source": [
    "current_day = startDate_datetime"
   ]
  },
  {
   "cell_type": "markdown",
   "metadata": {
    "colab_type": "text",
    "id": "-3atw5UGFRDl"
   },
   "source": [
    "Теперь в цикле будем увеличивать значение `current_day` на 1 день, пока ее значение не превысит дату конца выгрузки. Для составления таких циклов используется конструкция `while`. Этот цикл будет работать, пока указанное в нем условие выполняется. Простой пример для вывода нескольких чисел:"
   ]
  },
  {
   "cell_type": "code",
   "execution_count": 0,
   "metadata": {
    "colab": {
     "base_uri": "https://localhost:8080/",
     "height": 85
    },
    "colab_type": "code",
    "executionInfo": {
     "elapsed": 1234,
     "status": "ok",
     "timestamp": 1590181253759,
     "user": {
      "displayName": "ENDY",
      "photoUrl": "https://lh3.googleusercontent.com/a-/AOh14GhweVQJI7BiE5TaPetwNnKNCwUO1mynGtoA5-pe4Q=s64",
      "userId": "14770815761046424264"
     },
     "user_tz": -180
    },
    "id": "6jvRCiIqFRDl",
    "outputId": "ad6b3129-5d3b-4ae8-dc9d-43f8bfdfff16"
   },
   "outputs": [
    {
     "name": "stdout",
     "output_type": "stream",
     "text": [
      "1\n",
      "2\n",
      "3\n",
      "4\n"
     ]
    }
   ],
   "source": [
    "a = 1\n",
    "while a < 5:\n",
    "    print(a)    \n",
    "    a += 1"
   ]
  },
  {
   "cell_type": "markdown",
   "metadata": {
    "colab_type": "text",
    "id": "_6BWeneSFRDn"
   },
   "source": [
    "Напишем точно такой же цикл, только заменим `a` на `current_day`, а число 5 на 7 января:"
   ]
  },
  {
   "cell_type": "code",
   "execution_count": 0,
   "metadata": {
    "colab": {
     "base_uri": "https://localhost:8080/",
     "height": 136
    },
    "colab_type": "code",
    "executionInfo": {
     "elapsed": 1430,
     "status": "ok",
     "timestamp": 1590181253965,
     "user": {
      "displayName": "ENDY",
      "photoUrl": "https://lh3.googleusercontent.com/a-/AOh14GhweVQJI7BiE5TaPetwNnKNCwUO1mynGtoA5-pe4Q=s64",
      "userId": "14770815761046424264"
     },
     "user_tz": -180
    },
    "id": "Vq0XT6X_FRDn",
    "outputId": "dade2296-512f-458f-dfc3-f970daf370d1"
   },
   "outputs": [
    {
     "name": "stdout",
     "output_type": "stream",
     "text": [
      "2017-01-01 00:00:00\n",
      "2017-01-02 00:00:00\n",
      "2017-01-03 00:00:00\n",
      "2017-01-04 00:00:00\n",
      "2017-01-05 00:00:00\n",
      "2017-01-06 00:00:00\n",
      "2017-01-07 00:00:00\n"
     ]
    }
   ],
   "source": [
    "current_day = startDate_datetime\n",
    "while current_day <= endDate_datetime:\n",
    "    print(current_day)    \n",
    "    current_day += timedelta(days=1)"
   ]
  },
  {
   "cell_type": "markdown",
   "metadata": {
    "colab_type": "text",
    "id": "53zHn-2JFRDq"
   },
   "source": [
    "Для удобства вывода заменим вывод `current_day` на более наглядный строковый эквивалент в формате даты:"
   ]
  },
  {
   "cell_type": "code",
   "execution_count": 0,
   "metadata": {
    "colab": {
     "base_uri": "https://localhost:8080/",
     "height": 136
    },
    "colab_type": "code",
    "executionInfo": {
     "elapsed": 1421,
     "status": "ok",
     "timestamp": 1590181253967,
     "user": {
      "displayName": "ENDY",
      "photoUrl": "https://lh3.googleusercontent.com/a-/AOh14GhweVQJI7BiE5TaPetwNnKNCwUO1mynGtoA5-pe4Q=s64",
      "userId": "14770815761046424264"
     },
     "user_tz": -180
    },
    "id": "3DHsvMoMFRDq",
    "outputId": "5e800ec1-a956-4f64-f6db-3a1c60f93eed"
   },
   "outputs": [
    {
     "name": "stdout",
     "output_type": "stream",
     "text": [
      "2017-01-01\n",
      "2017-01-02\n",
      "2017-01-03\n",
      "2017-01-04\n",
      "2017-01-05\n",
      "2017-01-06\n",
      "2017-01-07\n"
     ]
    }
   ],
   "source": [
    "current_day = startDate_datetime\n",
    "while current_day <= endDate_datetime:\n",
    "    print(current_day.strftime('%Y-%m-%d'))\n",
    "    current_day += timedelta(days=1)"
   ]
  },
  {
   "cell_type": "markdown",
   "metadata": {
    "colab_type": "text",
    "id": "LMIqnat3FRDs"
   },
   "source": [
    "Итак, мы получили цикл, в котором переменная `current_day` «пробегает» между 1 и 7 января по дням."
   ]
  },
  {
   "cell_type": "markdown",
   "metadata": {
    "colab_type": "text",
    "id": "G4M0yOzFFRDt"
   },
   "source": [
    "### Задание 4\n",
    "\n",
    "Напишите алгоритм, который «пробегает» период 1 до 3 января включительно по часам. Формат вывода `'%Y-%m-%d %H:%M:%S'`.\n",
    "\n",
    "Какое значение будет последним для 2 января (т. е. 23 часа 2 января)? Результат должен иметь формат `%Y-%m-%d %H:%M:%S`"
   ]
  },
  {
   "cell_type": "code",
   "execution_count": 0,
   "metadata": {
    "colab": {},
    "colab_type": "code",
    "id": "IW6saYKBFRDt"
   },
   "outputs": [],
   "source": [
    "startDate_str = '2020-1-1 00:00:00'\n",
    "endDate_str = '2020-1-3 23:00:00'"
   ]
  },
  {
   "cell_type": "code",
   "execution_count": 0,
   "metadata": {
    "colab": {},
    "colab_type": "code",
    "id": "w601rM4uPNb4"
   },
   "outputs": [],
   "source": [
    "startDate_datetime = datetime.strptime(startDate_str, '%Y-%m-%d %H:%M:%S')\n",
    "endDate_datetime = datetime.strptime(endDate_str, '%Y-%m-%d %H:%M:%S')"
   ]
  },
  {
   "cell_type": "code",
   "execution_count": 0,
   "metadata": {
    "colab": {},
    "colab_type": "code",
    "id": "jHGPvDsWSG51"
   },
   "outputs": [],
   "source": [
    "current_day = startDate_datetime\n",
    "dates_list = []\n",
    "while current_day <= endDate_datetime:\n",
    "  dates_list.append(current_day.strftime('%Y-%m-%d %H:%M:%S'))\n",
    "  current_day += timedelta(hours=1)"
   ]
  },
  {
   "cell_type": "code",
   "execution_count": 0,
   "metadata": {
    "colab": {
     "base_uri": "https://localhost:8080/",
     "height": 1000
    },
    "colab_type": "code",
    "executionInfo": {
     "elapsed": 651,
     "status": "ok",
     "timestamp": 1590185172770,
     "user": {
      "displayName": "ENDY",
      "photoUrl": "https://lh3.googleusercontent.com/a-/AOh14GhweVQJI7BiE5TaPetwNnKNCwUO1mynGtoA5-pe4Q=s64",
      "userId": "14770815761046424264"
     },
     "user_tz": -180
    },
    "id": "LDBC55rnVYSd",
    "outputId": "dcf8ed57-ecac-4657-88d1-68bde63a06d6"
   },
   "outputs": [
    {
     "data": {
      "text/plain": [
       "['2020-01-01 00:00:00',\n",
       " '2020-01-01 01:00:00',\n",
       " '2020-01-01 02:00:00',\n",
       " '2020-01-01 03:00:00',\n",
       " '2020-01-01 04:00:00',\n",
       " '2020-01-01 05:00:00',\n",
       " '2020-01-01 06:00:00',\n",
       " '2020-01-01 07:00:00',\n",
       " '2020-01-01 08:00:00',\n",
       " '2020-01-01 09:00:00',\n",
       " '2020-01-01 10:00:00',\n",
       " '2020-01-01 11:00:00',\n",
       " '2020-01-01 12:00:00',\n",
       " '2020-01-01 13:00:00',\n",
       " '2020-01-01 14:00:00',\n",
       " '2020-01-01 15:00:00',\n",
       " '2020-01-01 16:00:00',\n",
       " '2020-01-01 17:00:00',\n",
       " '2020-01-01 18:00:00',\n",
       " '2020-01-01 19:00:00',\n",
       " '2020-01-01 20:00:00',\n",
       " '2020-01-01 21:00:00',\n",
       " '2020-01-01 22:00:00',\n",
       " '2020-01-01 23:00:00',\n",
       " '2020-01-02 00:00:00',\n",
       " '2020-01-02 01:00:00',\n",
       " '2020-01-02 02:00:00',\n",
       " '2020-01-02 03:00:00',\n",
       " '2020-01-02 04:00:00',\n",
       " '2020-01-02 05:00:00',\n",
       " '2020-01-02 06:00:00',\n",
       " '2020-01-02 07:00:00',\n",
       " '2020-01-02 08:00:00',\n",
       " '2020-01-02 09:00:00',\n",
       " '2020-01-02 10:00:00',\n",
       " '2020-01-02 11:00:00',\n",
       " '2020-01-02 12:00:00',\n",
       " '2020-01-02 13:00:00',\n",
       " '2020-01-02 14:00:00',\n",
       " '2020-01-02 15:00:00',\n",
       " '2020-01-02 16:00:00',\n",
       " '2020-01-02 17:00:00',\n",
       " '2020-01-02 18:00:00',\n",
       " '2020-01-02 19:00:00',\n",
       " '2020-01-02 20:00:00',\n",
       " '2020-01-02 21:00:00',\n",
       " '2020-01-02 22:00:00',\n",
       " '2020-01-02 23:00:00',\n",
       " '2020-01-03 00:00:00',\n",
       " '2020-01-03 01:00:00',\n",
       " '2020-01-03 02:00:00',\n",
       " '2020-01-03 03:00:00',\n",
       " '2020-01-03 04:00:00',\n",
       " '2020-01-03 05:00:00',\n",
       " '2020-01-03 06:00:00',\n",
       " '2020-01-03 07:00:00',\n",
       " '2020-01-03 08:00:00',\n",
       " '2020-01-03 09:00:00',\n",
       " '2020-01-03 10:00:00',\n",
       " '2020-01-03 11:00:00',\n",
       " '2020-01-03 12:00:00',\n",
       " '2020-01-03 13:00:00',\n",
       " '2020-01-03 14:00:00',\n",
       " '2020-01-03 15:00:00',\n",
       " '2020-01-03 16:00:00',\n",
       " '2020-01-03 17:00:00',\n",
       " '2020-01-03 18:00:00',\n",
       " '2020-01-03 19:00:00',\n",
       " '2020-01-03 20:00:00',\n",
       " '2020-01-03 21:00:00',\n",
       " '2020-01-03 22:00:00',\n",
       " '2020-01-03 23:00:00']"
      ]
     },
     "execution_count": 62,
     "metadata": {
      "tags": []
     },
     "output_type": "execute_result"
    }
   ],
   "source": [
    "dates_list # ->  Ответ: '2020-01-02 23:00:00'"
   ]
  },
  {
   "cell_type": "markdown",
   "metadata": {
    "colab_type": "text",
    "id": "98CRJfupFRDw"
   },
   "source": [
    "### ФУНКЦИЯ ДЛЯ РАБОТЫ\n",
    "\n",
    "Далее функция, которая сразу формирует список с датами в заданном диапазоне. Вы можете скопировать ее и использовать в работе. Пример работы функции приведен в ее описании: "
   ]
  },
  {
   "cell_type": "code",
   "execution_count": 0,
   "metadata": {
    "colab": {},
    "colab_type": "code",
    "id": "oQn8Y1z6FRDx"
   },
   "outputs": [],
   "source": [
    "def date_range(start_date, end_date):\n",
    "    \"\"\"\n",
    "    Возвращает список дат между start_date и end_date с шагом в день.\n",
    "    Если start_date > end_date, то возвращает пустой список. \n",
    "    Пример\n",
    "    date_range('2018-01-01', '2018-01-07')\n",
    "    [\n",
    "        '2018-01-01',\n",
    "        '2018-01-02',\n",
    "        '2018-01-03',\n",
    "        '2018-01-04',\n",
    "        '2018-01-05',\n",
    "        '2018-01-06',\n",
    "        '2018-01-07'\n",
    "    ]\n",
    "    \"\"\" \n",
    "    date_range_list = []\n",
    "    current_date = start_date  \n",
    "    current_date_dt = datetime.strptime(start_date, '%Y-%m-%d')\n",
    "    end_date_dt = datetime.strptime(end_date, '%Y-%m-%d')   \n",
    "    while current_date_dt <= end_date_dt:\n",
    "        date_range_list.append(current_date)        \n",
    "        current_date_dt += timedelta(days=1)\n",
    "        current_date = current_date_dt.strftime('%Y-%m-%d')    \n",
    "    return date_range_list"
   ]
  },
  {
   "cell_type": "markdown",
   "metadata": {
    "colab_type": "text",
    "id": "bbjsaoiXFRDz"
   },
   "source": [
    "### ПОСТАНОВКА ЗАДАЧИ\n",
    "\n",
    "Нам необходимо для пользователей из датасета [`data.tsv`](https://raw.githubusercontent.com/dm-fedorov/pandas_basic/master/data/data.tsv) посчитать метрику `lifetime`, т. е. среднее время жизни (с точки зрения покупок, конечно). Т. е. если пользователь сделал `2` и более заказа, то для него необходимо посчитать разницу во времени между первой и последней покупкой и, соответственно, усреднить эти значения для всех пользователей.\n",
    "\n",
    "Основной проблемой будет то, что время покупки у нас задано в виде строки. Соответственно, необходимо перевести эту дату в числа и считать разницу между первой и последней покупкой."
   ]
  },
  {
   "cell_type": "markdown",
   "metadata": {
    "colab_type": "text",
    "id": "GpGZXCXIFRD0"
   },
   "source": [
    "### ПЕРЕВОДИМ СТРОКИ В ДАТЫ\n",
    "Итак, посмотрим, как выглядят наши данные:"
   ]
  },
  {
   "cell_type": "code",
   "execution_count": 0,
   "metadata": {
    "colab": {
     "base_uri": "https://localhost:8080/",
     "height": 204
    },
    "colab_type": "code",
    "executionInfo": {
     "elapsed": 997,
     "status": "ok",
     "timestamp": 1590185819626,
     "user": {
      "displayName": "ENDY",
      "photoUrl": "https://lh3.googleusercontent.com/a-/AOh14GhweVQJI7BiE5TaPetwNnKNCwUO1mynGtoA5-pe4Q=s64",
      "userId": "14770815761046424264"
     },
     "user_tz": -180
    },
    "id": "nvKYI-21FRD0",
    "outputId": "9f0b3e89-8f1a-46fa-f5bf-692c151212b8"
   },
   "outputs": [
    {
     "data": {
      "text/html": [
       "<div>\n",
       "<style scoped>\n",
       "    .dataframe tbody tr th:only-of-type {\n",
       "        vertical-align: middle;\n",
       "    }\n",
       "\n",
       "    .dataframe tbody tr th {\n",
       "        vertical-align: top;\n",
       "    }\n",
       "\n",
       "    .dataframe thead th {\n",
       "        text-align: right;\n",
       "    }\n",
       "</style>\n",
       "<table border=\"1\" class=\"dataframe\">\n",
       "  <thead>\n",
       "    <tr style=\"text-align: right;\">\n",
       "      <th></th>\n",
       "      <th>id</th>\n",
       "      <th>date</th>\n",
       "      <th>user_id</th>\n",
       "      <th>duration</th>\n",
       "      <th>medium</th>\n",
       "      <th>source</th>\n",
       "      <th>cost</th>\n",
       "      <th>order_id</th>\n",
       "      <th>amount_paid</th>\n",
       "    </tr>\n",
       "  </thead>\n",
       "  <tbody>\n",
       "    <tr>\n",
       "      <th>0</th>\n",
       "      <td>40443</td>\n",
       "      <td>05.10.2016 23:18</td>\n",
       "      <td>1010</td>\n",
       "      <td>0.000926</td>\n",
       "      <td>seo</td>\n",
       "      <td>google</td>\n",
       "      <td>0.00</td>\n",
       "      <td>6243</td>\n",
       "      <td>20.2</td>\n",
       "    </tr>\n",
       "    <tr>\n",
       "      <th>1</th>\n",
       "      <td>35044</td>\n",
       "      <td>09.10.2016 21:40</td>\n",
       "      <td>1036</td>\n",
       "      <td>0.006493</td>\n",
       "      <td>sem</td>\n",
       "      <td>yandex</td>\n",
       "      <td>0.07</td>\n",
       "      <td>6145</td>\n",
       "      <td>15.6</td>\n",
       "    </tr>\n",
       "    <tr>\n",
       "      <th>2</th>\n",
       "      <td>40177</td>\n",
       "      <td>05.10.2016 3:23</td>\n",
       "      <td>1041</td>\n",
       "      <td>0.003380</td>\n",
       "      <td>email</td>\n",
       "      <td>promo</td>\n",
       "      <td>0.00</td>\n",
       "      <td>6128</td>\n",
       "      <td>13.2</td>\n",
       "    </tr>\n",
       "    <tr>\n",
       "      <th>3</th>\n",
       "      <td>39401</td>\n",
       "      <td>05.10.2016 23:19</td>\n",
       "      <td>1041</td>\n",
       "      <td>0.000463</td>\n",
       "      <td>sem</td>\n",
       "      <td>yandex</td>\n",
       "      <td>0.03</td>\n",
       "      <td>6697</td>\n",
       "      <td>9.8</td>\n",
       "    </tr>\n",
       "    <tr>\n",
       "      <th>4</th>\n",
       "      <td>41545</td>\n",
       "      <td>01.10.2016 4:57</td>\n",
       "      <td>1042</td>\n",
       "      <td>0.006493</td>\n",
       "      <td>sem</td>\n",
       "      <td>google</td>\n",
       "      <td>0.06</td>\n",
       "      <td>4510</td>\n",
       "      <td>14.8</td>\n",
       "    </tr>\n",
       "  </tbody>\n",
       "</table>\n",
       "</div>"
      ],
      "text/plain": [
       "      id              date  user_id  ...  cost order_id amount_paid\n",
       "0  40443  05.10.2016 23:18     1010  ...  0.00     6243        20.2\n",
       "1  35044  09.10.2016 21:40     1036  ...  0.07     6145        15.6\n",
       "2  40177   05.10.2016 3:23     1041  ...  0.00     6128        13.2\n",
       "3  39401  05.10.2016 23:19     1041  ...  0.03     6697         9.8\n",
       "4  41545   01.10.2016 4:57     1042  ...  0.06     4510        14.8\n",
       "\n",
       "[5 rows x 9 columns]"
      ]
     },
     "execution_count": 63,
     "metadata": {
      "tags": []
     },
     "output_type": "execute_result"
    }
   ],
   "source": [
    "import pandas as pd\n",
    "data = pd.read_csv('https://raw.githubusercontent.com/dm-fedorov/pandas_basic/master/data/data.tsv', sep='\\t')\n",
    "data.head()5"
   ]
  },
  {
   "cell_type": "markdown",
   "metadata": {
    "colab_type": "text",
    "id": "0YST134VFRD2"
   },
   "source": [
    "Переведем столбец `date` в тип `datetime` с помощью функции:"
   ]
  },
  {
   "cell_type": "code",
   "execution_count": 0,
   "metadata": {
    "colab": {},
    "colab_type": "code",
    "id": "C1T-XBhdFRD3"
   },
   "outputs": [],
   "source": [
    "def convert_to_datetime(row):\n",
    "    return datetime.strptime(row['date'], '%d.%m.%Y %H:%M')"
   ]
  },
  {
   "cell_type": "markdown",
   "metadata": {
    "colab_type": "text",
    "id": "nTO1VLwGFRD5"
   },
   "source": [
    "Проверяем результат:"
   ]
  },
  {
   "cell_type": "code",
   "execution_count": 0,
   "metadata": {
    "colab": {
     "base_uri": "https://localhost:8080/",
     "height": 204
    },
    "colab_type": "code",
    "executionInfo": {
     "elapsed": 691,
     "status": "ok",
     "timestamp": 1590185836010,
     "user": {
      "displayName": "ENDY",
      "photoUrl": "https://lh3.googleusercontent.com/a-/AOh14GhweVQJI7BiE5TaPetwNnKNCwUO1mynGtoA5-pe4Q=s64",
      "userId": "14770815761046424264"
     },
     "user_tz": -180
    },
    "id": "01uGgbp6FRD6",
    "outputId": "fbcec489-53fb-4888-d024-0ca71ef59d2b"
   },
   "outputs": [
    {
     "data": {
      "text/html": [
       "<div>\n",
       "<style scoped>\n",
       "    .dataframe tbody tr th:only-of-type {\n",
       "        vertical-align: middle;\n",
       "    }\n",
       "\n",
       "    .dataframe tbody tr th {\n",
       "        vertical-align: top;\n",
       "    }\n",
       "\n",
       "    .dataframe thead th {\n",
       "        text-align: right;\n",
       "    }\n",
       "</style>\n",
       "<table border=\"1\" class=\"dataframe\">\n",
       "  <thead>\n",
       "    <tr style=\"text-align: right;\">\n",
       "      <th></th>\n",
       "      <th>id</th>\n",
       "      <th>date</th>\n",
       "      <th>user_id</th>\n",
       "      <th>duration</th>\n",
       "      <th>medium</th>\n",
       "      <th>source</th>\n",
       "      <th>cost</th>\n",
       "      <th>order_id</th>\n",
       "      <th>amount_paid</th>\n",
       "      <th>datetime</th>\n",
       "    </tr>\n",
       "  </thead>\n",
       "  <tbody>\n",
       "    <tr>\n",
       "      <th>0</th>\n",
       "      <td>40443</td>\n",
       "      <td>05.10.2016 23:18</td>\n",
       "      <td>1010</td>\n",
       "      <td>0.000926</td>\n",
       "      <td>seo</td>\n",
       "      <td>google</td>\n",
       "      <td>0.00</td>\n",
       "      <td>6243</td>\n",
       "      <td>20.2</td>\n",
       "      <td>2016-10-05 23:18:00</td>\n",
       "    </tr>\n",
       "    <tr>\n",
       "      <th>1</th>\n",
       "      <td>35044</td>\n",
       "      <td>09.10.2016 21:40</td>\n",
       "      <td>1036</td>\n",
       "      <td>0.006493</td>\n",
       "      <td>sem</td>\n",
       "      <td>yandex</td>\n",
       "      <td>0.07</td>\n",
       "      <td>6145</td>\n",
       "      <td>15.6</td>\n",
       "      <td>2016-10-09 21:40:00</td>\n",
       "    </tr>\n",
       "    <tr>\n",
       "      <th>2</th>\n",
       "      <td>40177</td>\n",
       "      <td>05.10.2016 3:23</td>\n",
       "      <td>1041</td>\n",
       "      <td>0.003380</td>\n",
       "      <td>email</td>\n",
       "      <td>promo</td>\n",
       "      <td>0.00</td>\n",
       "      <td>6128</td>\n",
       "      <td>13.2</td>\n",
       "      <td>2016-10-05 03:23:00</td>\n",
       "    </tr>\n",
       "    <tr>\n",
       "      <th>3</th>\n",
       "      <td>39401</td>\n",
       "      <td>05.10.2016 23:19</td>\n",
       "      <td>1041</td>\n",
       "      <td>0.000463</td>\n",
       "      <td>sem</td>\n",
       "      <td>yandex</td>\n",
       "      <td>0.03</td>\n",
       "      <td>6697</td>\n",
       "      <td>9.8</td>\n",
       "      <td>2016-10-05 23:19:00</td>\n",
       "    </tr>\n",
       "    <tr>\n",
       "      <th>4</th>\n",
       "      <td>41545</td>\n",
       "      <td>01.10.2016 4:57</td>\n",
       "      <td>1042</td>\n",
       "      <td>0.006493</td>\n",
       "      <td>sem</td>\n",
       "      <td>google</td>\n",
       "      <td>0.06</td>\n",
       "      <td>4510</td>\n",
       "      <td>14.8</td>\n",
       "      <td>2016-10-01 04:57:00</td>\n",
       "    </tr>\n",
       "  </tbody>\n",
       "</table>\n",
       "</div>"
      ],
      "text/plain": [
       "      id              date  user_id  ...  order_id amount_paid            datetime\n",
       "0  40443  05.10.2016 23:18     1010  ...      6243        20.2 2016-10-05 23:18:00\n",
       "1  35044  09.10.2016 21:40     1036  ...      6145        15.6 2016-10-09 21:40:00\n",
       "2  40177   05.10.2016 3:23     1041  ...      6128        13.2 2016-10-05 03:23:00\n",
       "3  39401  05.10.2016 23:19     1041  ...      6697         9.8 2016-10-05 23:19:00\n",
       "4  41545   01.10.2016 4:57     1042  ...      4510        14.8 2016-10-01 04:57:00\n",
       "\n",
       "[5 rows x 10 columns]"
      ]
     },
     "execution_count": 65,
     "metadata": {
      "tags": []
     },
     "output_type": "execute_result"
    }
   ],
   "source": [
    "data['datetime'] = data.apply(convert_to_datetime, axis=1)\n",
    "data.head()"
   ]
  },
  {
   "cell_type": "markdown",
   "metadata": {
    "colab_type": "text",
    "id": "9JUZjeaKFRD8"
   },
   "source": [
    "### ФОРМАТ UNIXTIME\n",
    "\n",
    "Для подсчета разницы в датах есть много методов. Одним из самых простых является перевод времени в формат `unixtime`. Он означает количество секунд, прошедшее с `1 января 1970 года`. Этот формат очень популярен и используется во многих системах. Попробуем использовать его для нашей задачи.\n",
    "\n",
    "Для перевод столбца `datetime` в unix-формат даты используем библиотеку `time` и следующую функцию:"
   ]
  },
  {
   "cell_type": "code",
   "execution_count": 0,
   "metadata": {
    "colab": {},
    "colab_type": "code",
    "id": "QgnOf4lMFRD8"
   },
   "outputs": [],
   "source": [
    "import time\n",
    "def make_unix_time(row):\n",
    "    return time.mktime(row['datetime'].timetuple())"
   ]
  },
  {
   "cell_type": "markdown",
   "metadata": {
    "colab_type": "text",
    "id": "AkXmXHkdFRD_"
   },
   "source": [
    "Заведем столбец `unixtime` и посмотрим, что получилось:"
   ]
  },
  {
   "cell_type": "code",
   "execution_count": 0,
   "metadata": {
    "colab": {
     "base_uri": "https://localhost:8080/",
     "height": 204
    },
    "colab_type": "code",
    "executionInfo": {
     "elapsed": 668,
     "status": "ok",
     "timestamp": 1590186099388,
     "user": {
      "displayName": "ENDY",
      "photoUrl": "https://lh3.googleusercontent.com/a-/AOh14GhweVQJI7BiE5TaPetwNnKNCwUO1mynGtoA5-pe4Q=s64",
      "userId": "14770815761046424264"
     },
     "user_tz": -180
    },
    "id": "SrNLnduAFRD_",
    "outputId": "11ab3284-cac5-4f9a-af4d-39eae1efe308"
   },
   "outputs": [
    {
     "data": {
      "text/html": [
       "<div>\n",
       "<style scoped>\n",
       "    .dataframe tbody tr th:only-of-type {\n",
       "        vertical-align: middle;\n",
       "    }\n",
       "\n",
       "    .dataframe tbody tr th {\n",
       "        vertical-align: top;\n",
       "    }\n",
       "\n",
       "    .dataframe thead th {\n",
       "        text-align: right;\n",
       "    }\n",
       "</style>\n",
       "<table border=\"1\" class=\"dataframe\">\n",
       "  <thead>\n",
       "    <tr style=\"text-align: right;\">\n",
       "      <th></th>\n",
       "      <th>id</th>\n",
       "      <th>date</th>\n",
       "      <th>user_id</th>\n",
       "      <th>duration</th>\n",
       "      <th>medium</th>\n",
       "      <th>source</th>\n",
       "      <th>cost</th>\n",
       "      <th>order_id</th>\n",
       "      <th>amount_paid</th>\n",
       "      <th>datetime</th>\n",
       "      <th>unixtime</th>\n",
       "    </tr>\n",
       "  </thead>\n",
       "  <tbody>\n",
       "    <tr>\n",
       "      <th>0</th>\n",
       "      <td>40443</td>\n",
       "      <td>05.10.2016 23:18</td>\n",
       "      <td>1010</td>\n",
       "      <td>0.000926</td>\n",
       "      <td>seo</td>\n",
       "      <td>google</td>\n",
       "      <td>0.00</td>\n",
       "      <td>6243</td>\n",
       "      <td>20.2</td>\n",
       "      <td>2016-10-05 23:18:00</td>\n",
       "      <td>1.475709e+09</td>\n",
       "    </tr>\n",
       "    <tr>\n",
       "      <th>1</th>\n",
       "      <td>35044</td>\n",
       "      <td>09.10.2016 21:40</td>\n",
       "      <td>1036</td>\n",
       "      <td>0.006493</td>\n",
       "      <td>sem</td>\n",
       "      <td>yandex</td>\n",
       "      <td>0.07</td>\n",
       "      <td>6145</td>\n",
       "      <td>15.6</td>\n",
       "      <td>2016-10-09 21:40:00</td>\n",
       "      <td>1.476049e+09</td>\n",
       "    </tr>\n",
       "    <tr>\n",
       "      <th>2</th>\n",
       "      <td>40177</td>\n",
       "      <td>05.10.2016 3:23</td>\n",
       "      <td>1041</td>\n",
       "      <td>0.003380</td>\n",
       "      <td>email</td>\n",
       "      <td>promo</td>\n",
       "      <td>0.00</td>\n",
       "      <td>6128</td>\n",
       "      <td>13.2</td>\n",
       "      <td>2016-10-05 03:23:00</td>\n",
       "      <td>1.475638e+09</td>\n",
       "    </tr>\n",
       "    <tr>\n",
       "      <th>3</th>\n",
       "      <td>39401</td>\n",
       "      <td>05.10.2016 23:19</td>\n",
       "      <td>1041</td>\n",
       "      <td>0.000463</td>\n",
       "      <td>sem</td>\n",
       "      <td>yandex</td>\n",
       "      <td>0.03</td>\n",
       "      <td>6697</td>\n",
       "      <td>9.8</td>\n",
       "      <td>2016-10-05 23:19:00</td>\n",
       "      <td>1.475710e+09</td>\n",
       "    </tr>\n",
       "    <tr>\n",
       "      <th>4</th>\n",
       "      <td>41545</td>\n",
       "      <td>01.10.2016 4:57</td>\n",
       "      <td>1042</td>\n",
       "      <td>0.006493</td>\n",
       "      <td>sem</td>\n",
       "      <td>google</td>\n",
       "      <td>0.06</td>\n",
       "      <td>4510</td>\n",
       "      <td>14.8</td>\n",
       "      <td>2016-10-01 04:57:00</td>\n",
       "      <td>1.475298e+09</td>\n",
       "    </tr>\n",
       "  </tbody>\n",
       "</table>\n",
       "</div>"
      ],
      "text/plain": [
       "      id              date  ...            datetime      unixtime\n",
       "0  40443  05.10.2016 23:18  ... 2016-10-05 23:18:00  1.475709e+09\n",
       "1  35044  09.10.2016 21:40  ... 2016-10-09 21:40:00  1.476049e+09\n",
       "2  40177   05.10.2016 3:23  ... 2016-10-05 03:23:00  1.475638e+09\n",
       "3  39401  05.10.2016 23:19  ... 2016-10-05 23:19:00  1.475710e+09\n",
       "4  41545   01.10.2016 4:57  ... 2016-10-01 04:57:00  1.475298e+09\n",
       "\n",
       "[5 rows x 11 columns]"
      ]
     },
     "execution_count": 67,
     "metadata": {
      "tags": []
     },
     "output_type": "execute_result"
    }
   ],
   "source": [
    "data['unixtime'] = data.apply(make_unix_time, axis=1)\n",
    "data.head()"
   ]
  },
  {
   "cell_type": "markdown",
   "metadata": {
    "colab_type": "text",
    "id": "eMED5UlYFREB"
   },
   "source": [
    "Дальнейшие действия по расчету `lifetime` будут составлять самостоятельное задание."
   ]
  },
  {
   "cell_type": "markdown",
   "metadata": {
    "colab_type": "text",
    "id": "67Ich8WVFREC"
   },
   "source": [
    "### ЗАДАНИЕ\n",
    "Для завершения подсчета `lifetime` вам необходимо сделать следующее:\n",
    "\n",
    "1. Сгруппировать датафрейм data по столбцу user_id, посчитав для столбца unixtime максимальное и минимальное значение для каждого пользователя.\n",
    "2. Посчитать столбец diff с разностью максимального и минимального значения столбца unixtime из пункта 1.\n",
    "3. Исключить из расчета пользователей, у которых разница diff равна 0.\n",
    "4. Посчитать среднее значение столбца diff после фильтрации.\n",
    "5. Вы получите ответ в секундах. Пересчитайте его в количество дней."
   ]
  },
  {
   "cell_type": "markdown",
   "metadata": {
    "colab_type": "text",
    "id": "X6XRst36FRED"
   },
   "source": [
    "Каково значение `lifetime` в днях? Результат округлите до первого знака после запятой."
   ]
  },
  {
   "cell_type": "code",
   "execution_count": 0,
   "metadata": {
    "colab": {
     "base_uri": "https://localhost:8080/",
     "height": 450
    },
    "colab_type": "code",
    "executionInfo": {
     "elapsed": 649,
     "status": "ok",
     "timestamp": 1590187335175,
     "user": {
      "displayName": "ENDY",
      "photoUrl": "https://lh3.googleusercontent.com/a-/AOh14GhweVQJI7BiE5TaPetwNnKNCwUO1mynGtoA5-pe4Q=s64",
      "userId": "14770815761046424264"
     },
     "user_tz": -180
    },
    "id": "Ky2_FYkVFRED",
    "outputId": "63ccc39c-5d8c-4f81-a06c-25d9d9f19e8c"
   },
   "outputs": [
    {
     "data": {
      "text/html": [
       "<div>\n",
       "<style scoped>\n",
       "    .dataframe tbody tr th:only-of-type {\n",
       "        vertical-align: middle;\n",
       "    }\n",
       "\n",
       "    .dataframe tbody tr th {\n",
       "        vertical-align: top;\n",
       "    }\n",
       "\n",
       "    .dataframe thead th {\n",
       "        text-align: right;\n",
       "    }\n",
       "</style>\n",
       "<table border=\"1\" class=\"dataframe\">\n",
       "  <thead>\n",
       "    <tr style=\"text-align: right;\">\n",
       "      <th></th>\n",
       "      <th>min</th>\n",
       "      <th>max</th>\n",
       "    </tr>\n",
       "    <tr>\n",
       "      <th>user_id</th>\n",
       "      <th></th>\n",
       "      <th></th>\n",
       "    </tr>\n",
       "  </thead>\n",
       "  <tbody>\n",
       "    <tr>\n",
       "      <th>1010</th>\n",
       "      <td>1.475709e+09</td>\n",
       "      <td>1.475709e+09</td>\n",
       "    </tr>\n",
       "    <tr>\n",
       "      <th>1036</th>\n",
       "      <td>1.476049e+09</td>\n",
       "      <td>1.476049e+09</td>\n",
       "    </tr>\n",
       "    <tr>\n",
       "      <th>1041</th>\n",
       "      <td>1.475638e+09</td>\n",
       "      <td>1.475710e+09</td>\n",
       "    </tr>\n",
       "    <tr>\n",
       "      <th>1042</th>\n",
       "      <td>1.475298e+09</td>\n",
       "      <td>1.475945e+09</td>\n",
       "    </tr>\n",
       "    <tr>\n",
       "      <th>1047</th>\n",
       "      <td>1.475329e+09</td>\n",
       "      <td>1.475704e+09</td>\n",
       "    </tr>\n",
       "    <tr>\n",
       "      <th>...</th>\n",
       "      <td>...</td>\n",
       "      <td>...</td>\n",
       "    </tr>\n",
       "    <tr>\n",
       "      <th>1393</th>\n",
       "      <td>1.475732e+09</td>\n",
       "      <td>1.475732e+09</td>\n",
       "    </tr>\n",
       "    <tr>\n",
       "      <th>1394</th>\n",
       "      <td>1.475625e+09</td>\n",
       "      <td>1.475625e+09</td>\n",
       "    </tr>\n",
       "    <tr>\n",
       "      <th>1397</th>\n",
       "      <td>1.475644e+09</td>\n",
       "      <td>1.475644e+09</td>\n",
       "    </tr>\n",
       "    <tr>\n",
       "      <th>1398</th>\n",
       "      <td>1.475708e+09</td>\n",
       "      <td>1.475708e+09</td>\n",
       "    </tr>\n",
       "    <tr>\n",
       "      <th>1424</th>\n",
       "      <td>1.475341e+09</td>\n",
       "      <td>1.476063e+09</td>\n",
       "    </tr>\n",
       "  </tbody>\n",
       "</table>\n",
       "<p>124 rows × 2 columns</p>\n",
       "</div>"
      ],
      "text/plain": [
       "                  min           max\n",
       "user_id                            \n",
       "1010     1.475709e+09  1.475709e+09\n",
       "1036     1.476049e+09  1.476049e+09\n",
       "1041     1.475638e+09  1.475710e+09\n",
       "1042     1.475298e+09  1.475945e+09\n",
       "1047     1.475329e+09  1.475704e+09\n",
       "...               ...           ...\n",
       "1393     1.475732e+09  1.475732e+09\n",
       "1394     1.475625e+09  1.475625e+09\n",
       "1397     1.475644e+09  1.475644e+09\n",
       "1398     1.475708e+09  1.475708e+09\n",
       "1424     1.475341e+09  1.476063e+09\n",
       "\n",
       "[124 rows x 2 columns]"
      ]
     },
     "execution_count": 79,
     "metadata": {
      "tags": []
     },
     "output_type": "execute_result"
    }
   ],
   "source": [
    "# Пункт 1\n",
    "dataMinMax = data.groupby(['user_id'])['unixtime'].agg(['min','max'])\n",
    "dataMinMax"
   ]
  },
  {
   "cell_type": "code",
   "execution_count": 0,
   "metadata": {
    "colab": {},
    "colab_type": "code",
    "id": "1EBtBemdgOWY"
   },
   "outputs": [],
   "source": [
    "def sub_min_max(row):\n",
    "  return row['max'] - row['min']"
   ]
  },
  {
   "cell_type": "code",
   "execution_count": 0,
   "metadata": {
    "colab": {
     "base_uri": "https://localhost:8080/",
     "height": 450
    },
    "colab_type": "code",
    "executionInfo": {
     "elapsed": 2028,
     "status": "ok",
     "timestamp": 1590187474398,
     "user": {
      "displayName": "ENDY",
      "photoUrl": "https://lh3.googleusercontent.com/a-/AOh14GhweVQJI7BiE5TaPetwNnKNCwUO1mynGtoA5-pe4Q=s64",
      "userId": "14770815761046424264"
     },
     "user_tz": -180
    },
    "id": "3deJLM_sjNWR",
    "outputId": "0c028d4e-3245-4873-ca20-7617370a5cfc"
   },
   "outputs": [
    {
     "data": {
      "text/html": [
       "<div>\n",
       "<style scoped>\n",
       "    .dataframe tbody tr th:only-of-type {\n",
       "        vertical-align: middle;\n",
       "    }\n",
       "\n",
       "    .dataframe tbody tr th {\n",
       "        vertical-align: top;\n",
       "    }\n",
       "\n",
       "    .dataframe thead th {\n",
       "        text-align: right;\n",
       "    }\n",
       "</style>\n",
       "<table border=\"1\" class=\"dataframe\">\n",
       "  <thead>\n",
       "    <tr style=\"text-align: right;\">\n",
       "      <th></th>\n",
       "      <th>min</th>\n",
       "      <th>max</th>\n",
       "      <th>diff</th>\n",
       "    </tr>\n",
       "    <tr>\n",
       "      <th>user_id</th>\n",
       "      <th></th>\n",
       "      <th></th>\n",
       "      <th></th>\n",
       "    </tr>\n",
       "  </thead>\n",
       "  <tbody>\n",
       "    <tr>\n",
       "      <th>1010</th>\n",
       "      <td>1.475709e+09</td>\n",
       "      <td>1.475709e+09</td>\n",
       "      <td>0.0</td>\n",
       "    </tr>\n",
       "    <tr>\n",
       "      <th>1036</th>\n",
       "      <td>1.476049e+09</td>\n",
       "      <td>1.476049e+09</td>\n",
       "      <td>0.0</td>\n",
       "    </tr>\n",
       "    <tr>\n",
       "      <th>1041</th>\n",
       "      <td>1.475638e+09</td>\n",
       "      <td>1.475710e+09</td>\n",
       "      <td>71760.0</td>\n",
       "    </tr>\n",
       "    <tr>\n",
       "      <th>1042</th>\n",
       "      <td>1.475298e+09</td>\n",
       "      <td>1.475945e+09</td>\n",
       "      <td>647340.0</td>\n",
       "    </tr>\n",
       "    <tr>\n",
       "      <th>1047</th>\n",
       "      <td>1.475329e+09</td>\n",
       "      <td>1.475704e+09</td>\n",
       "      <td>374520.0</td>\n",
       "    </tr>\n",
       "    <tr>\n",
       "      <th>...</th>\n",
       "      <td>...</td>\n",
       "      <td>...</td>\n",
       "      <td>...</td>\n",
       "    </tr>\n",
       "    <tr>\n",
       "      <th>1393</th>\n",
       "      <td>1.475732e+09</td>\n",
       "      <td>1.475732e+09</td>\n",
       "      <td>0.0</td>\n",
       "    </tr>\n",
       "    <tr>\n",
       "      <th>1394</th>\n",
       "      <td>1.475625e+09</td>\n",
       "      <td>1.475625e+09</td>\n",
       "      <td>0.0</td>\n",
       "    </tr>\n",
       "    <tr>\n",
       "      <th>1397</th>\n",
       "      <td>1.475644e+09</td>\n",
       "      <td>1.475644e+09</td>\n",
       "      <td>0.0</td>\n",
       "    </tr>\n",
       "    <tr>\n",
       "      <th>1398</th>\n",
       "      <td>1.475708e+09</td>\n",
       "      <td>1.475708e+09</td>\n",
       "      <td>0.0</td>\n",
       "    </tr>\n",
       "    <tr>\n",
       "      <th>1424</th>\n",
       "      <td>1.475341e+09</td>\n",
       "      <td>1.476063e+09</td>\n",
       "      <td>721380.0</td>\n",
       "    </tr>\n",
       "  </tbody>\n",
       "</table>\n",
       "<p>124 rows × 3 columns</p>\n",
       "</div>"
      ],
      "text/plain": [
       "                  min           max      diff\n",
       "user_id                                      \n",
       "1010     1.475709e+09  1.475709e+09       0.0\n",
       "1036     1.476049e+09  1.476049e+09       0.0\n",
       "1041     1.475638e+09  1.475710e+09   71760.0\n",
       "1042     1.475298e+09  1.475945e+09  647340.0\n",
       "1047     1.475329e+09  1.475704e+09  374520.0\n",
       "...               ...           ...       ...\n",
       "1393     1.475732e+09  1.475732e+09       0.0\n",
       "1394     1.475625e+09  1.475625e+09       0.0\n",
       "1397     1.475644e+09  1.475644e+09       0.0\n",
       "1398     1.475708e+09  1.475708e+09       0.0\n",
       "1424     1.475341e+09  1.476063e+09  721380.0\n",
       "\n",
       "[124 rows x 3 columns]"
      ]
     },
     "execution_count": 84,
     "metadata": {
      "tags": []
     },
     "output_type": "execute_result"
    }
   ],
   "source": [
    "# Пункт 2\n",
    "dataMinMax['diff'] = dataMinMax.apply(sub_min_max, axis = 1)\n",
    "dataMinMax"
   ]
  },
  {
   "cell_type": "code",
   "execution_count": 0,
   "metadata": {
    "colab": {
     "base_uri": "https://localhost:8080/",
     "height": 1000
    },
    "colab_type": "code",
    "executionInfo": {
     "elapsed": 1343,
     "status": "ok",
     "timestamp": 1590187613901,
     "user": {
      "displayName": "ENDY",
      "photoUrl": "https://lh3.googleusercontent.com/a-/AOh14GhweVQJI7BiE5TaPetwNnKNCwUO1mynGtoA5-pe4Q=s64",
      "userId": "14770815761046424264"
     },
     "user_tz": -180
    },
    "id": "r2zdt9i0jdXO",
    "outputId": "9c7a7cf3-9f34-4f1f-c9f2-c3b4ae5db852"
   },
   "outputs": [
    {
     "data": {
      "text/html": [
       "<div>\n",
       "<style scoped>\n",
       "    .dataframe tbody tr th:only-of-type {\n",
       "        vertical-align: middle;\n",
       "    }\n",
       "\n",
       "    .dataframe tbody tr th {\n",
       "        vertical-align: top;\n",
       "    }\n",
       "\n",
       "    .dataframe thead th {\n",
       "        text-align: right;\n",
       "    }\n",
       "</style>\n",
       "<table border=\"1\" class=\"dataframe\">\n",
       "  <thead>\n",
       "    <tr style=\"text-align: right;\">\n",
       "      <th></th>\n",
       "      <th>min</th>\n",
       "      <th>max</th>\n",
       "      <th>diff</th>\n",
       "    </tr>\n",
       "    <tr>\n",
       "      <th>user_id</th>\n",
       "      <th></th>\n",
       "      <th></th>\n",
       "      <th></th>\n",
       "    </tr>\n",
       "  </thead>\n",
       "  <tbody>\n",
       "    <tr>\n",
       "      <th>1041</th>\n",
       "      <td>1.475638e+09</td>\n",
       "      <td>1.475710e+09</td>\n",
       "      <td>71760.0</td>\n",
       "    </tr>\n",
       "    <tr>\n",
       "      <th>1042</th>\n",
       "      <td>1.475298e+09</td>\n",
       "      <td>1.475945e+09</td>\n",
       "      <td>647340.0</td>\n",
       "    </tr>\n",
       "    <tr>\n",
       "      <th>1047</th>\n",
       "      <td>1.475329e+09</td>\n",
       "      <td>1.475704e+09</td>\n",
       "      <td>374520.0</td>\n",
       "    </tr>\n",
       "    <tr>\n",
       "      <th>1052</th>\n",
       "      <td>1.475834e+09</td>\n",
       "      <td>1.475955e+09</td>\n",
       "      <td>121020.0</td>\n",
       "    </tr>\n",
       "    <tr>\n",
       "      <th>1057</th>\n",
       "      <td>1.475580e+09</td>\n",
       "      <td>1.475981e+09</td>\n",
       "      <td>401700.0</td>\n",
       "    </tr>\n",
       "    <tr>\n",
       "      <th>1100</th>\n",
       "      <td>1.475331e+09</td>\n",
       "      <td>1.475940e+09</td>\n",
       "      <td>608340.0</td>\n",
       "    </tr>\n",
       "    <tr>\n",
       "      <th>1108</th>\n",
       "      <td>1.475296e+09</td>\n",
       "      <td>1.476002e+09</td>\n",
       "      <td>705780.0</td>\n",
       "    </tr>\n",
       "    <tr>\n",
       "      <th>1112</th>\n",
       "      <td>1.475645e+09</td>\n",
       "      <td>1.475971e+09</td>\n",
       "      <td>326280.0</td>\n",
       "    </tr>\n",
       "    <tr>\n",
       "      <th>1113</th>\n",
       "      <td>1.475749e+09</td>\n",
       "      <td>1.476015e+09</td>\n",
       "      <td>266400.0</td>\n",
       "    </tr>\n",
       "    <tr>\n",
       "      <th>1114</th>\n",
       "      <td>1.475690e+09</td>\n",
       "      <td>1.475777e+09</td>\n",
       "      <td>86280.0</td>\n",
       "    </tr>\n",
       "    <tr>\n",
       "      <th>1118</th>\n",
       "      <td>1.475364e+09</td>\n",
       "      <td>1.476048e+09</td>\n",
       "      <td>684060.0</td>\n",
       "    </tr>\n",
       "    <tr>\n",
       "      <th>1123</th>\n",
       "      <td>1.475685e+09</td>\n",
       "      <td>1.475732e+09</td>\n",
       "      <td>46620.0</td>\n",
       "    </tr>\n",
       "    <tr>\n",
       "      <th>1134</th>\n",
       "      <td>1.475557e+09</td>\n",
       "      <td>1.475755e+09</td>\n",
       "      <td>198060.0</td>\n",
       "    </tr>\n",
       "    <tr>\n",
       "      <th>1135</th>\n",
       "      <td>1.475337e+09</td>\n",
       "      <td>1.475968e+09</td>\n",
       "      <td>630720.0</td>\n",
       "    </tr>\n",
       "    <tr>\n",
       "      <th>1136</th>\n",
       "      <td>1.475361e+09</td>\n",
       "      <td>1.475536e+09</td>\n",
       "      <td>174900.0</td>\n",
       "    </tr>\n",
       "    <tr>\n",
       "      <th>1140</th>\n",
       "      <td>1.475482e+09</td>\n",
       "      <td>1.475575e+09</td>\n",
       "      <td>93300.0</td>\n",
       "    </tr>\n",
       "    <tr>\n",
       "      <th>1145</th>\n",
       "      <td>1.475638e+09</td>\n",
       "      <td>1.475726e+09</td>\n",
       "      <td>88140.0</td>\n",
       "    </tr>\n",
       "    <tr>\n",
       "      <th>1149</th>\n",
       "      <td>1.475396e+09</td>\n",
       "      <td>1.476052e+09</td>\n",
       "      <td>656040.0</td>\n",
       "    </tr>\n",
       "    <tr>\n",
       "      <th>1154</th>\n",
       "      <td>1.475410e+09</td>\n",
       "      <td>1.475621e+09</td>\n",
       "      <td>211680.0</td>\n",
       "    </tr>\n",
       "    <tr>\n",
       "      <th>1159</th>\n",
       "      <td>1.475573e+09</td>\n",
       "      <td>1.475588e+09</td>\n",
       "      <td>14760.0</td>\n",
       "    </tr>\n",
       "    <tr>\n",
       "      <th>1182</th>\n",
       "      <td>1.475834e+09</td>\n",
       "      <td>1.476067e+09</td>\n",
       "      <td>232860.0</td>\n",
       "    </tr>\n",
       "    <tr>\n",
       "      <th>1193</th>\n",
       "      <td>1.475589e+09</td>\n",
       "      <td>1.476046e+09</td>\n",
       "      <td>457200.0</td>\n",
       "    </tr>\n",
       "    <tr>\n",
       "      <th>1198</th>\n",
       "      <td>1.475299e+09</td>\n",
       "      <td>1.475740e+09</td>\n",
       "      <td>441600.0</td>\n",
       "    </tr>\n",
       "    <tr>\n",
       "      <th>1203</th>\n",
       "      <td>1.475676e+09</td>\n",
       "      <td>1.475733e+09</td>\n",
       "      <td>57660.0</td>\n",
       "    </tr>\n",
       "    <tr>\n",
       "      <th>1207</th>\n",
       "      <td>1.475338e+09</td>\n",
       "      <td>1.476047e+09</td>\n",
       "      <td>708840.0</td>\n",
       "    </tr>\n",
       "    <tr>\n",
       "      <th>1208</th>\n",
       "      <td>1.475567e+09</td>\n",
       "      <td>1.476025e+09</td>\n",
       "      <td>458100.0</td>\n",
       "    </tr>\n",
       "    <tr>\n",
       "      <th>1213</th>\n",
       "      <td>1.475475e+09</td>\n",
       "      <td>1.475748e+09</td>\n",
       "      <td>272880.0</td>\n",
       "    </tr>\n",
       "    <tr>\n",
       "      <th>1218</th>\n",
       "      <td>1.475341e+09</td>\n",
       "      <td>1.476040e+09</td>\n",
       "      <td>699480.0</td>\n",
       "    </tr>\n",
       "    <tr>\n",
       "      <th>1223</th>\n",
       "      <td>1.475523e+09</td>\n",
       "      <td>1.475792e+09</td>\n",
       "      <td>268740.0</td>\n",
       "    </tr>\n",
       "    <tr>\n",
       "      <th>1226</th>\n",
       "      <td>1.475297e+09</td>\n",
       "      <td>1.475487e+09</td>\n",
       "      <td>190260.0</td>\n",
       "    </tr>\n",
       "    <tr>\n",
       "      <th>1228</th>\n",
       "      <td>1.475865e+09</td>\n",
       "      <td>1.475933e+09</td>\n",
       "      <td>67740.0</td>\n",
       "    </tr>\n",
       "    <tr>\n",
       "      <th>1233</th>\n",
       "      <td>1.475313e+09</td>\n",
       "      <td>1.475318e+09</td>\n",
       "      <td>5100.0</td>\n",
       "    </tr>\n",
       "    <tr>\n",
       "      <th>1238</th>\n",
       "      <td>1.475645e+09</td>\n",
       "      <td>1.476024e+09</td>\n",
       "      <td>378960.0</td>\n",
       "    </tr>\n",
       "    <tr>\n",
       "      <th>1243</th>\n",
       "      <td>1.475730e+09</td>\n",
       "      <td>1.475764e+09</td>\n",
       "      <td>34440.0</td>\n",
       "    </tr>\n",
       "    <tr>\n",
       "      <th>1246</th>\n",
       "      <td>1.475296e+09</td>\n",
       "      <td>1.476061e+09</td>\n",
       "      <td>765120.0</td>\n",
       "    </tr>\n",
       "    <tr>\n",
       "      <th>1248</th>\n",
       "      <td>1.475339e+09</td>\n",
       "      <td>1.475356e+09</td>\n",
       "      <td>16560.0</td>\n",
       "    </tr>\n",
       "    <tr>\n",
       "      <th>1252</th>\n",
       "      <td>1.475392e+09</td>\n",
       "      <td>1.475589e+09</td>\n",
       "      <td>196740.0</td>\n",
       "    </tr>\n",
       "    <tr>\n",
       "      <th>1253</th>\n",
       "      <td>1.475325e+09</td>\n",
       "      <td>1.475601e+09</td>\n",
       "      <td>275700.0</td>\n",
       "    </tr>\n",
       "    <tr>\n",
       "      <th>1258</th>\n",
       "      <td>1.475425e+09</td>\n",
       "      <td>1.475955e+09</td>\n",
       "      <td>529920.0</td>\n",
       "    </tr>\n",
       "    <tr>\n",
       "      <th>1263</th>\n",
       "      <td>1.475405e+09</td>\n",
       "      <td>1.475475e+09</td>\n",
       "      <td>70440.0</td>\n",
       "    </tr>\n",
       "    <tr>\n",
       "      <th>1267</th>\n",
       "      <td>1.475445e+09</td>\n",
       "      <td>1.476039e+09</td>\n",
       "      <td>594840.0</td>\n",
       "    </tr>\n",
       "    <tr>\n",
       "      <th>1268</th>\n",
       "      <td>1.475636e+09</td>\n",
       "      <td>1.475869e+09</td>\n",
       "      <td>233280.0</td>\n",
       "    </tr>\n",
       "    <tr>\n",
       "      <th>1273</th>\n",
       "      <td>1.475312e+09</td>\n",
       "      <td>1.475935e+09</td>\n",
       "      <td>622380.0</td>\n",
       "    </tr>\n",
       "    <tr>\n",
       "      <th>1278</th>\n",
       "      <td>1.475589e+09</td>\n",
       "      <td>1.475823e+09</td>\n",
       "      <td>233700.0</td>\n",
       "    </tr>\n",
       "    <tr>\n",
       "      <th>1283</th>\n",
       "      <td>1.475389e+09</td>\n",
       "      <td>1.475436e+09</td>\n",
       "      <td>47580.0</td>\n",
       "    </tr>\n",
       "    <tr>\n",
       "      <th>1288</th>\n",
       "      <td>1.475847e+09</td>\n",
       "      <td>1.475956e+09</td>\n",
       "      <td>108540.0</td>\n",
       "    </tr>\n",
       "    <tr>\n",
       "      <th>1293</th>\n",
       "      <td>1.475343e+09</td>\n",
       "      <td>1.475439e+09</td>\n",
       "      <td>96180.0</td>\n",
       "    </tr>\n",
       "    <tr>\n",
       "      <th>1298</th>\n",
       "      <td>1.475527e+09</td>\n",
       "      <td>1.475670e+09</td>\n",
       "      <td>142680.0</td>\n",
       "    </tr>\n",
       "    <tr>\n",
       "      <th>1300</th>\n",
       "      <td>1.475409e+09</td>\n",
       "      <td>1.475537e+09</td>\n",
       "      <td>128100.0</td>\n",
       "    </tr>\n",
       "    <tr>\n",
       "      <th>1303</th>\n",
       "      <td>1.475396e+09</td>\n",
       "      <td>1.475735e+09</td>\n",
       "      <td>339420.0</td>\n",
       "    </tr>\n",
       "    <tr>\n",
       "      <th>1308</th>\n",
       "      <td>1.475491e+09</td>\n",
       "      <td>1.475780e+09</td>\n",
       "      <td>288600.0</td>\n",
       "    </tr>\n",
       "    <tr>\n",
       "      <th>1313</th>\n",
       "      <td>1.475771e+09</td>\n",
       "      <td>1.475950e+09</td>\n",
       "      <td>179760.0</td>\n",
       "    </tr>\n",
       "    <tr>\n",
       "      <th>1318</th>\n",
       "      <td>1.475504e+09</td>\n",
       "      <td>1.476052e+09</td>\n",
       "      <td>548220.0</td>\n",
       "    </tr>\n",
       "    <tr>\n",
       "      <th>1323</th>\n",
       "      <td>1.475980e+09</td>\n",
       "      <td>1.476008e+09</td>\n",
       "      <td>27180.0</td>\n",
       "    </tr>\n",
       "    <tr>\n",
       "      <th>1328</th>\n",
       "      <td>1.475653e+09</td>\n",
       "      <td>1.475669e+09</td>\n",
       "      <td>16140.0</td>\n",
       "    </tr>\n",
       "    <tr>\n",
       "      <th>1424</th>\n",
       "      <td>1.475341e+09</td>\n",
       "      <td>1.476063e+09</td>\n",
       "      <td>721380.0</td>\n",
       "    </tr>\n",
       "  </tbody>\n",
       "</table>\n",
       "</div>"
      ],
      "text/plain": [
       "                  min           max      diff\n",
       "user_id                                      \n",
       "1041     1.475638e+09  1.475710e+09   71760.0\n",
       "1042     1.475298e+09  1.475945e+09  647340.0\n",
       "1047     1.475329e+09  1.475704e+09  374520.0\n",
       "1052     1.475834e+09  1.475955e+09  121020.0\n",
       "1057     1.475580e+09  1.475981e+09  401700.0\n",
       "1100     1.475331e+09  1.475940e+09  608340.0\n",
       "1108     1.475296e+09  1.476002e+09  705780.0\n",
       "1112     1.475645e+09  1.475971e+09  326280.0\n",
       "1113     1.475749e+09  1.476015e+09  266400.0\n",
       "1114     1.475690e+09  1.475777e+09   86280.0\n",
       "1118     1.475364e+09  1.476048e+09  684060.0\n",
       "1123     1.475685e+09  1.475732e+09   46620.0\n",
       "1134     1.475557e+09  1.475755e+09  198060.0\n",
       "1135     1.475337e+09  1.475968e+09  630720.0\n",
       "1136     1.475361e+09  1.475536e+09  174900.0\n",
       "1140     1.475482e+09  1.475575e+09   93300.0\n",
       "1145     1.475638e+09  1.475726e+09   88140.0\n",
       "1149     1.475396e+09  1.476052e+09  656040.0\n",
       "1154     1.475410e+09  1.475621e+09  211680.0\n",
       "1159     1.475573e+09  1.475588e+09   14760.0\n",
       "1182     1.475834e+09  1.476067e+09  232860.0\n",
       "1193     1.475589e+09  1.476046e+09  457200.0\n",
       "1198     1.475299e+09  1.475740e+09  441600.0\n",
       "1203     1.475676e+09  1.475733e+09   57660.0\n",
       "1207     1.475338e+09  1.476047e+09  708840.0\n",
       "1208     1.475567e+09  1.476025e+09  458100.0\n",
       "1213     1.475475e+09  1.475748e+09  272880.0\n",
       "1218     1.475341e+09  1.476040e+09  699480.0\n",
       "1223     1.475523e+09  1.475792e+09  268740.0\n",
       "1226     1.475297e+09  1.475487e+09  190260.0\n",
       "1228     1.475865e+09  1.475933e+09   67740.0\n",
       "1233     1.475313e+09  1.475318e+09    5100.0\n",
       "1238     1.475645e+09  1.476024e+09  378960.0\n",
       "1243     1.475730e+09  1.475764e+09   34440.0\n",
       "1246     1.475296e+09  1.476061e+09  765120.0\n",
       "1248     1.475339e+09  1.475356e+09   16560.0\n",
       "1252     1.475392e+09  1.475589e+09  196740.0\n",
       "1253     1.475325e+09  1.475601e+09  275700.0\n",
       "1258     1.475425e+09  1.475955e+09  529920.0\n",
       "1263     1.475405e+09  1.475475e+09   70440.0\n",
       "1267     1.475445e+09  1.476039e+09  594840.0\n",
       "1268     1.475636e+09  1.475869e+09  233280.0\n",
       "1273     1.475312e+09  1.475935e+09  622380.0\n",
       "1278     1.475589e+09  1.475823e+09  233700.0\n",
       "1283     1.475389e+09  1.475436e+09   47580.0\n",
       "1288     1.475847e+09  1.475956e+09  108540.0\n",
       "1293     1.475343e+09  1.475439e+09   96180.0\n",
       "1298     1.475527e+09  1.475670e+09  142680.0\n",
       "1300     1.475409e+09  1.475537e+09  128100.0\n",
       "1303     1.475396e+09  1.475735e+09  339420.0\n",
       "1308     1.475491e+09  1.475780e+09  288600.0\n",
       "1313     1.475771e+09  1.475950e+09  179760.0\n",
       "1318     1.475504e+09  1.476052e+09  548220.0\n",
       "1323     1.475980e+09  1.476008e+09   27180.0\n",
       "1328     1.475653e+09  1.475669e+09   16140.0\n",
       "1424     1.475341e+09  1.476063e+09  721380.0"
      ]
     },
     "execution_count": 89,
     "metadata": {
      "tags": []
     },
     "output_type": "execute_result"
    }
   ],
   "source": [
    "# Пункт 3 \n",
    "dataMinMax = dataMinMax[dataMinMax['diff'] != 0]\n",
    "dataMinMax"
   ]
  },
  {
   "cell_type": "code",
   "execution_count": 0,
   "metadata": {
    "colab": {
     "base_uri": "https://localhost:8080/",
     "height": 34
    },
    "colab_type": "code",
    "executionInfo": {
     "elapsed": 634,
     "status": "ok",
     "timestamp": 1590187746922,
     "user": {
      "displayName": "ENDY",
      "photoUrl": "https://lh3.googleusercontent.com/a-/AOh14GhweVQJI7BiE5TaPetwNnKNCwUO1mynGtoA5-pe4Q=s64",
      "userId": "14770815761046424264"
     },
     "user_tz": -180
    },
    "id": "YFult--tkKAw",
    "outputId": "f3b04875-216a-40c1-8b86-d19a25095a09"
   },
   "outputs": [
    {
     "data": {
      "text/plain": [
       "301143.21428571426"
      ]
     },
     "execution_count": 92,
     "metadata": {
      "tags": []
     },
     "output_type": "execute_result"
    }
   ],
   "source": [
    "# Пункт 4\n",
    "meanDiff = dataMinMax['diff'].mean()\n",
    "meanDiff"
   ]
  },
  {
   "cell_type": "code",
   "execution_count": 0,
   "metadata": {
    "colab": {
     "base_uri": "https://localhost:8080/",
     "height": 34
    },
    "colab_type": "code",
    "executionInfo": {
     "elapsed": 665,
     "status": "ok",
     "timestamp": 1590188237626,
     "user": {
      "displayName": "ENDY",
      "photoUrl": "https://lh3.googleusercontent.com/a-/AOh14GhweVQJI7BiE5TaPetwNnKNCwUO1mynGtoA5-pe4Q=s64",
      "userId": "14770815761046424264"
     },
     "user_tz": -180
    },
    "id": "oWG1GKOpky6L",
    "outputId": "65afeee1-1879-44ce-f182-ba7cf8466718"
   },
   "outputs": [
    {
     "data": {
      "text/plain": [
       "3.5"
      ]
     },
     "execution_count": 102,
     "metadata": {
      "tags": []
     },
     "output_type": "execute_result"
    }
   ],
   "source": [
    "# Пункт 5\n",
    "round(meanDiff/(3600*24),1)"
   ]
  },
  {
   "cell_type": "code",
   "execution_count": 0,
   "metadata": {
    "colab": {},
    "colab_type": "code",
    "id": "SfErdVcHl2m4"
   },
   "outputs": [],
   "source": []
  }
 ],
 "metadata": {
  "colab": {
   "collapsed_sections": [
    "lr35KtLYFRCf",
    "J-SpmjbLFRCu",
    "Arz1PThpFRDA",
    "s8ceiIBFFRDD",
    "5RIt8aHbFRDQ",
    "MUrW7CBxFRDT",
    "M9vaEWhCFRDW",
    "o5ir_snzFRDY",
    "TqPHxYtuFRDb",
    "8Vqjr_-hFRDb",
    "aX9nItw6FRDi",
    "G4M0yOzFFRDt",
    "98CRJfupFRDw",
    "bbjsaoiXFRDz",
    "GpGZXCXIFRD0",
    "9JUZjeaKFRD8",
    "67Ich8WVFREC"
   ],
   "name": "Работа с датами (Часть №1).ipynb",
   "provenance": [
    {
     "file_id": "https://github.com/dm-fedorov/pandas_basic/blob/master/%D0%BA%D0%B5%D0%B9%D1%81%D1%8B%20%D0%BF%D0%BE%20%D0%B0%D0%BD%D0%B0%D0%BB%D0%B8%D0%B7%D1%83%20%D0%B4%D0%B0%D0%BD%D0%BD%D1%8B%D1%85/%D0%A0%D0%B0%D0%B1%D0%BE%D1%82%D0%B0%20%D1%81%20%D0%B4%D0%B0%D1%82%D0%B0%D0%BC%D0%B8%2002.ipynb",
     "timestamp": 1590181171661
    }
   ]
  },
  "kernelspec": {
   "display_name": "Python 3",
   "language": "python",
   "name": "python3"
  },
  "language_info": {
   "codemirror_mode": {
    "name": "ipython",
    "version": 3
   },
   "file_extension": ".py",
   "mimetype": "text/x-python",
   "name": "python",
   "nbconvert_exporter": "python",
   "pygments_lexer": "ipython3",
   "version": "3.7.3"
  }
 },
 "nbformat": 4,
 "nbformat_minor": 1
}
