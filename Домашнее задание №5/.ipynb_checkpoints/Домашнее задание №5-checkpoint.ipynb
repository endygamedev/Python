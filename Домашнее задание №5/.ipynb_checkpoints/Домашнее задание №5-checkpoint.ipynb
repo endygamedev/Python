{
 "cells": [
  {
   "cell_type": "markdown",
   "metadata": {},
   "source": [
    "## Домашнее задание №5"
   ]
  },
  {
   "cell_type": "markdown",
   "metadata": {},
   "source": [
    "### Упражнение 9.1 (6 баллов из 10)\n",
    "\n",
    "*Упражнение 2.6 необходимо переписать с использованием словаря.*"
   ]
  },
  {
   "cell_type": "code",
   "execution_count": 5,
   "metadata": {},
   "outputs": [
    {
     "name": "stdout",
     "output_type": "stream",
     "text": [
      "Введите фильм: Паразиты\n",
      "Введите день (сегодня, завтра): сегодня\n",
      "Введите время: 12\n",
      "Введите количество билетов: 2\n",
      "Выбрали фильм: Паразиты День: сегодня Время: 12 Количество билетов: 2\n",
      "Результат: 500 руб.\n"
     ]
    }
   ],
   "source": [
    "film = input(\"Введите фильм: \")\n",
    "date = input(\"Введите день (сегодня, завтра): \")\n",
    "time = input(\"Введите время: \")\n",
    "count = input(\"Введите количество билетов: \")\n",
    "\n",
    "def cinema_tikets(film: str, date: str, time: int, count: int):\n",
    "    movies = {'Паразиты':{'time': {12: 250, 16: 350, 20: 450}},\n",
    "             '1917':{'time': {10: 250, 13: 350, 16: 350}},\n",
    "             'Соник в кино':{'time': {10: 350, 14: 450, 18: 450}}}\n",
    "    \n",
    "    dates = ('сегодня','завтра')\n",
    "    \n",
    "    if film in movies:\n",
    "        if int(time) in movies[film]['time']:\n",
    "            return 'Выбрали фильм: {film} День: {date} Время: {time} Количество билетов: {count}\\nРезультат: {price} руб.'.format(\n",
    "                film = film, date = date, time = time, count = count, \n",
    "                \n",
    "                price = {\n",
    "                    date == dates[0] and int(count) > 0: int(count)*movies[film]['time'][int(time)],\n",
    "                    date == dates[0] and int(count) >= 20: int(count)*movies[film]['time'][int(time)]*0.8,\n",
    "                    date == dates[1] and int(count) > 0: int(count)*movies[film]['time'][int(time)]*0.95,\n",
    "                    date == dates[1] and int(count) >= 20: int(count)*movies[film]['time'][int(time)]*0.75,\n",
    "                    date not in dates or int(count) <= 0: 'Ошибка ввода!'\n",
    "                }[1]\n",
    "            )\n",
    "        else:\n",
    "            return 'Ошибка ввода!'\n",
    "    else:\n",
    "        return 'Ошибка ввода!'\n",
    "    \n",
    "print(cinema_tikets(film, date, time, count))"
   ]
  },
  {
   "cell_type": "markdown",
   "metadata": {},
   "source": [
    "### Упражнение 9.2 (8 баллов из 10)\n",
    "\n",
    "*Напишите программу для добавления задач (todo list). Для каждой из задач можно задать категорию и срок ее исполнения. Добавить возможность вывода списка задач. Реализовать с использованием словарей.*"
   ]
  },
  {
   "cell_type": "code",
   "execution_count": 55,
   "metadata": {},
   "outputs": [
    {
     "name": "stdout",
     "output_type": "stream",
     "text": [
      "\n",
      "Простой todo:\n",
      "\t1. Добавить задачу.\n",
      "\t2. Вывести список задач.\n",
      "\t3. Выход. \n",
      "\n",
      "Укажите число:1\n",
      "Сформулируйте задачу: купить молоко\n",
      "Добавьте категорию к задаче: купить\n",
      "Добавьте время к задаче: сегодня\n",
      "\n",
      "Простой todo:\n",
      "\t1. Добавить задачу.\n",
      "\t2. Вывести список задач.\n",
      "\t3. Выход. \n",
      "\n",
      "Укажите число:2\n",
      "Задача: купить молоко Категория: купить Дата: сегодня\n",
      "\n",
      "Простой todo:\n",
      "\t1. Добавить задачу.\n",
      "\t2. Вывести список задач.\n",
      "\t3. Выход. \n",
      "\n",
      "Укажите число:1\n",
      "Сформулируйте задачу: купить хлеб\n",
      "Добавьте категорию к задаче: купить\n",
      "Добавьте время к задаче: завтра\n",
      "\n",
      "Простой todo:\n",
      "\t1. Добавить задачу.\n",
      "\t2. Вывести список задач.\n",
      "\t3. Выход. \n",
      "\n",
      "Укажите число:2\n",
      "Задача: купить молоко Категория: купить Дата: сегодня\n",
      "Задача: купить хлеб Категория: купить Дата: завтра\n",
      "\n",
      "Простой todo:\n",
      "\t1. Добавить задачу.\n",
      "\t2. Вывести список задач.\n",
      "\t3. Выход. \n",
      "\n",
      "Укажите число:3\n"
     ]
    }
   ],
   "source": [
    "dictTasks = dict()\n",
    "\n",
    "while True:\n",
    "    print('\\nПростой todo:\\n\\t1. Добавить задачу.\\n\\t2. Вывести список задач.\\n\\t3. Выход. ')\n",
    "    action = int(input('\\nУкажите число:'))\n",
    "     \n",
    "    \n",
    "    if action == 1:\n",
    "        taskName = input('Сформулируйте задачу: ')\n",
    "        taskCategory = input('Добавьте категорию к задаче: ')\n",
    "        taskDate = input('Добавьте время к задаче: ')\n",
    "        \n",
    "        dictTasks[taskName] = {taskCategory: taskDate}\n",
    "        \n",
    "    if action == 2:\n",
    "        for i in dictTasks:\n",
    "            print('Задача: {task} Категория: {category} Дата: {date}'.format(\n",
    "                    task = i, category = ''.join(list(dictTasks[i].keys())),\n",
    "                    date = ''.join(list(dictTasks[i].values())))) \n",
    "            \n",
    "    if action == 3:\n",
    "        break"
   ]
  },
  {
   "cell_type": "markdown",
   "metadata": {},
   "source": [
    "### Упражнение 9.4 (7 баллов из 10)\n",
    "\n",
    "*Дан список из 20 элементов. Найти пять соседних элементов, сумма значений которых максимальна.*"
   ]
  },
  {
   "cell_type": "code",
   "execution_count": 23,
   "metadata": {},
   "outputs": [
    {
     "data": {
      "text/plain": [
       "TestResults(failed=0, attempted=4)"
      ]
     },
     "execution_count": 23,
     "metadata": {},
     "output_type": "execute_result"
    }
   ],
   "source": [
    "def max_sequence(seq):\n",
    "    \"\"\"\n",
    "    Функция ищет пять соседних элементов списка, сумма значений которых максимальна.\n",
    "    >>> max_sequence([1, 3, 1, 1, 4, 4, 3, 1, 4, 4, 4, 3, 4, 4, 1, 3, 2, 4, 4, 4])\n",
    "    [4, 4, 4, 3, 4]\n",
    "    >>> max_sequence([1, 5, 7, 2, 9, 2, 9, 2, 5, 3, 7, 6, 3, 3, 7, 4, 4, 1, 9, 5])\n",
    "    [7, 2, 9, 2, 9]\n",
    "    \"\"\"\n",
    "    summ = 0\n",
    "    for i in range(len(seq)):\n",
    "        a = seq[i:i+5]\n",
    "        if summ < sum(a):\n",
    "            summ = sum(a)\n",
    "            el = seq[i:i+5]\n",
    "    return el\n",
    "\n",
    "import doctest\n",
    "doctest.testmod()"
   ]
  },
  {
   "cell_type": "markdown",
   "metadata": {},
   "source": [
    "### Упражнение 9.5 (8 баллов из 10) **\n",
    "\n",
    "*Напишите код для выполнения 10 итераций этого алгоритма со списком кортежей входных и выходных ссылок:*\n",
    "**links = [(‘a’, ‘b’), (‘a’, ‘c’), (‘b’, ‘c’)]**"
   ]
  },
  {
   "cell_type": "markdown",
   "metadata": {},
   "source": [
    "**Не понял условие :((((**"
   ]
  },
  {
   "cell_type": "markdown",
   "metadata": {},
   "source": [
    "### Упражнение №1\n",
    "\n",
    "*Напишите калькулятор, который вычисляет арифметические\n",
    "выражения, заданные пользователем в постфиксной записи\n",
    "(обратная польская запись).*"
   ]
  },
  {
   "cell_type": "code",
   "execution_count": 14,
   "metadata": {
    "scrolled": false
   },
   "outputs": [
    {
     "data": {
      "text/plain": [
       "TestResults(failed=0, attempted=4)"
      ]
     },
     "execution_count": 14,
     "metadata": {},
     "output_type": "execute_result"
    }
   ],
   "source": [
    "def calc(expr):\n",
    "    '''\n",
    "    >>> calc(\"1 2 + 4 * 3 +\")\n",
    "    '15'\n",
    "    >>> calc(\"1 2 3 * + 2 -\")\n",
    "    '5'\n",
    "    '''\n",
    "    s = expr.split()\n",
    "    stack = []\n",
    "    for i in s:\n",
    "        if i.isdigit():\n",
    "            stack.append(i)\n",
    "        elif i == '+':\n",
    "            stack.append(int(stack.pop()) + int(stack.pop()))\n",
    "        elif i == '*':\n",
    "            stack.append(int(stack.pop()) * int(stack.pop()))\n",
    "        elif i == '-':\n",
    "            stack.append(int(stack.pop(0)) - int(stack.pop(0)))\n",
    "    return ''.join(map(str,stack))\n",
    "\n",
    "import doctest\n",
    "doctest.testmod()"
   ]
  }
 ],
 "metadata": {
  "kernelspec": {
   "display_name": "Python 3",
   "language": "python",
   "name": "python3"
  },
  "language_info": {
   "codemirror_mode": {
    "name": "ipython",
    "version": 3
   },
   "file_extension": ".py",
   "mimetype": "text/x-python",
   "name": "python",
   "nbconvert_exporter": "python",
   "pygments_lexer": "ipython3",
   "version": "3.7.5"
  }
 },
 "nbformat": 4,
 "nbformat_minor": 4
}
